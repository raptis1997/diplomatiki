{
 "cells": [
  {
   "cell_type": "code",
   "execution_count": 1,
   "metadata": {},
   "outputs": [
    {
     "data": {
      "text/plain": [
       "'\\n1. Χρήση του Tweepy για την λήψη περιεχομένου από το twitter που να σχετίζεται με ένα σύνολο όρων ή hashtags\\n2. Επεξεργασία του περιεχομένου που λαμβάνεται ώστε να διαπιστωθεί αν έχουν θετική, αρνητική ή ουδέτερη χροιά.\\n   Προσεγγίσεις με την χρήση λεξικού\\n'"
      ]
     },
     "execution_count": 1,
     "metadata": {},
     "output_type": "execute_result"
    }
   ],
   "source": [
    "'''\n",
    "1. Χρήση του Tweepy για την λήψη περιεχομένου από το twitter που να σχετίζεται με ένα σύνολο όρων ή hashtags\n",
    "2. Επεξεργασία του περιεχομένου που λαμβάνεται ώστε να διαπιστωθεί αν έχουν θετική, αρνητική ή ουδέτερη χροιά.\n",
    "   Προσεγγίσεις με την χρήση λεξικού\n",
    "'''\n",
    "#Εγκατάσταση Modules\n",
    "#!pip install textblob\n",
    "#!pip install tweepy\n",
    "#!pip install pycountry\n",
    "#!pip install wordcloud\n",
    "#!pip install langdetect\n",
    "#!pip install spacy_langdetect\n",
    "#!pip uninstall googletrans\n",
    "#!pip install googletrans==3.1.0a0\n",
    "#!pip install pycountry\n",
    "#!pip install langdetect\n",
    "#!pip install emoji\n",
    "#!pip install afinn\n",
    "#!pip install senticnet\n"
   ]
  },
  {
   "cell_type": "code",
   "execution_count": 5,
   "metadata": {},
   "outputs": [
    {
     "name": "stderr",
     "output_type": "stream",
     "text": [
      "[nltk_data] Downloading package vader_lexicon to\n",
      "[nltk_data]     C:\\Users\\Admin\\AppData\\Roaming\\nltk_data...\n",
      "[nltk_data]   Package vader_lexicon is already up-to-date!\n",
      "[nltk_data] Downloading package averaged_perceptron_tagger to\n",
      "[nltk_data]     C:\\Users\\Admin\\AppData\\Roaming\\nltk_data...\n",
      "[nltk_data]   Package averaged_perceptron_tagger is already up-to-\n",
      "[nltk_data]       date!\n",
      "[nltk_data] Downloading package sentiwordnet to\n",
      "[nltk_data]     C:\\Users\\Admin\\AppData\\Roaming\\nltk_data...\n",
      "[nltk_data]   Package sentiwordnet is already up-to-date!\n",
      "[nltk_data] Downloading package punkt to\n",
      "[nltk_data]     C:\\Users\\Admin\\AppData\\Roaming\\nltk_data...\n",
      "[nltk_data]   Package punkt is already up-to-date!\n",
      "[nltk_data] Downloading package words to\n",
      "[nltk_data]     C:\\Users\\Admin\\AppData\\Roaming\\nltk_data...\n",
      "[nltk_data]   Package words is already up-to-date!\n"
     ]
    }
   ],
   "source": [
    "# Ενσωμάτωση των απαραίτητων βιβλιοθηκών\n",
    "from textblob import TextBlob\n",
    "import sys\n",
    "import tweepy\n",
    "import matplotlib.pyplot as plt\n",
    "import pandas as pd\n",
    "import numpy as np\n",
    "import os\n",
    "import nltk\n",
    "import pycountry\n",
    "import re\n",
    "import string\n",
    "from wordcloud import WordCloud, STOPWORDS\n",
    "from PIL import Image\n",
    "from nltk.sentiment.vader import SentimentIntensityAnalyzer\n",
    "from langdetect import detect\n",
    "from nltk.stem import SnowballStemmer\n",
    "from nltk.sentiment.vader import SentimentIntensityAnalyzer\n",
    "from nltk.tokenize import sent_tokenize, word_tokenize\n",
    "from sklearn.feature_extraction.text import CountVectorizer\n",
    "nltk.download('vader_lexicon')\n",
    "from nltk.corpus import webtext\n",
    "from nltk.corpus import stopwords\n",
    "import matplotlib.pyplot as plt\n",
    "import datetime\n",
    "\n",
    "\n",
    "import pandas as pd\n",
    "from langdetect import detect\n",
    "\n",
    "import calendar\n",
    "import time\n",
    "\n",
    "import emoji\n",
    "\n",
    "from afinn import Afinn\n",
    "\n",
    "from senticnet.senticnet import SenticNet\n",
    "\n",
    "from senticnet.babelsenticnet import BabelSenticNet\n",
    "\n",
    "import re\n",
    "\n",
    "import nltk\n",
    "from nltk.corpus import sentiwordnet as swn\n",
    "from nltk import pos_tag\n",
    "from nltk.tag import str2tuple, map_tag\n",
    "from nltk.corpus import stopwords\n",
    "from nltk.stem import WordNetLemmatizer\n",
    "from nltk.stem import PorterStemmer\n",
    "from nltk.corpus import wordnet as wn\n",
    "from nltk.stem import PorterStemmer\n",
    "\n",
    "import nltk\n",
    "nltk.download('averaged_perceptron_tagger')\n",
    "\n",
    "import nltk\n",
    "nltk.download('sentiwordnet')\n",
    "nltk.download('punkt')\n",
    "\n",
    "\n",
    "nltk.download('words')\n",
    "words = set(nltk.corpus.words.words())"
   ]
  },
  {
   "cell_type": "markdown",
   "metadata": {},
   "source": [
    "# Ανάκτηση Δεδομένων από το twitter"
   ]
  },
  {
   "cell_type": "code",
   "execution_count": 6,
   "metadata": {},
   "outputs": [],
   "source": [
    "#Κλάση αντικειμένων για την λήψη tweets\n",
    "class TweepyAnalysis:\n",
    "\n",
    "    def __init__(self):\n",
    "        # Authentication\n",
    "        self.consumerKey = \"aHuS8BOiVv04KUfjhBnVE8Ybm\"\n",
    "        self.consumerSecret = \"snUDYYjq2uVp0kT1zFzYac5ap7xEMdXX7MYoLdccVyUukXU2NA\"\n",
    "        self.accessToken = \"91788750-0Iassfo13aQ01Ul9H9pJxH9mKbAujoqQXY6hh3PP3\"\n",
    "        self.accessTokenSecret = \"qk6IEnbugrytseV8TPnMiSQ1dCbbljoZrhVHvGR8xZf1h\"\n",
    "        self.auth = tweepy.OAuthHandler(self.consumerKey, self.consumerSecret)\n",
    "        self.auth.set_access_token(self.accessToken, self.accessTokenSecret)\n",
    "        self.api = tweepy.API(self.auth)\n",
    "    \n",
    "    #Αρχικοποίηση παραμέτρων\n",
    "    def InitiliazationParameters(self):\n",
    "        #Καθορίζεται ο αριθμός των tweets που θα ληφθούν\n",
    "        self.statuses = 20000\n",
    "        self.pages = 200\n",
    "    \n",
    "    #Λαμβάνει tweets που σχετίζονται με τις λέξεις που υπάρχουν στην λίστα\n",
    "    #της παραμέτρου\n",
    "    def GettingTweets(self,keywords, lang):\n",
    "        self.allTweets = []\n",
    "        self.lang = lang\n",
    "        maxtt = 0\n",
    "        #Για κάθε λέξη αναζ΄ήτησης\n",
    "        for w in keywords:\n",
    "            #επανάληψη για κάθε page\n",
    "            for rep in range(0,self.pages):\n",
    "                try:\n",
    "                    #αντιμετώπιση του περιορισμου του tweepy που σχετίζεται με \n",
    "                    #το πόσα tweets είναι επιτρεπτό να ανακτ΄ώνται στην μονάδα του\n",
    "                    #χρόνου\n",
    "                    #Λαμβάνονται tweets στα αγγλικά εξαιρουμένων των retweets\n",
    "                    if maxtt==0:\n",
    "                        tweets = tweepy.Cursor(self.api.search, q=w+\"  -filter:retweets\", wait_on_rate_limit=True, lang=self.lang).items(self.statuses)\n",
    "                    else:\n",
    "                        tweets = tweepy.Cursor(api.search, q=w, max_id=maxtt, wait_on_rate_limit=True, lang='en').items(self.statuses)\n",
    "                    #προσθήκη των tweets στα συνολικά ληφθέντα\n",
    "                    for tweet in tweets:\n",
    "                        self.allTweets.append(tweet)\n",
    "                    if maxtt < self.allTweets[len(self.allTweets)-1].id:\n",
    "                        maxtt = self.allTweets[len(self.allTweets)-1].id\n",
    "                except:\n",
    "                    continue\n",
    "    #μετατρέπει την λίστα των tweets σε dataframe            \n",
    "    def getTweetsInDataFrame(self):\n",
    "        listDict = []\n",
    "        for tt in self.allTweets:\n",
    "            v = dict({\"id\":tt.id, \"created_at\":tt.created_at,\"text\":tt.text ,\"place\":tt.place,\"location\":tt.user.location,\"lang\":tt.lang})\n",
    "            listDict.append(v)\n",
    "        #το dft περιλαμβάνει τα tweets σε dataframe μορφή\n",
    "        self.dft = pd.DataFrame(listDict)\n",
    "     \n",
    "    #αποθήκευση του dataframe με τα tweets σε αρχείο με όνομα filename\n",
    "    def exportToCsv(self,filename):\n",
    "        self.dft.to_csv(filename) \n",
    "                "
   ]
  },
  {
   "cell_type": "code",
   "execution_count": 3,
   "metadata": {},
   "outputs": [],
   "source": [
    "#Δημιουργία Αντικειμένου\n",
    "Analysis = TweepyAnalysis()\n",
    "#Αρχικοποίηση Παραμέτρων\n",
    "Analysis.InitiliazationParameters()\n",
    "#Καθορισμός των keywords\n",
    "keyword = [\"Putin\",\"#Putin\"]\n",
    "#Λήψη των tweets\n",
    "Analysis.GettingTweets(keyword, \"en\")\n",
    "#Μορφοποίηση σε Dataframe\n",
    "Analysis.getTweetsInDataFrame()\n",
    "#Αποθήκευση σε αρχείο με ονομασία που περιλαμβάνει το τρέχον timestamp\n",
    "ts = calendar.timegm(time.gmtime())\n",
    "Analysis.exportToCsv(\"Putin_\"+str(ts)+\".csv\")"
   ]
  },
  {
   "cell_type": "code",
   "execution_count": 4,
   "metadata": {},
   "outputs": [],
   "source": [
    "#Δημιουργία Αντικειμένου\n",
    "Analysis = TweepyAnalysis()\n",
    "#Αρχικοποίηση Παραμέτρων\n",
    "Analysis.InitiliazationParameters()\n",
    "#Καθορισμός των keywords\n",
    "keyword = [\"Zelenskyy\",\"#Zelenskyy\"]\n",
    "#Λήψη των tweets\n",
    "Analysis.GettingTweets(keyword, \"en\")\n",
    "#Μορφοποίηση σε Dataframe\n",
    "Analysis.getTweetsInDataFrame()\n",
    "#Αποθήκευση σε αρχείο με ονομασία που περιλαμβάνει το τρέχον timestamp\n",
    "ts = calendar.timegm(time.gmtime())\n",
    "Analysis.exportToCsv(\"Putin_\"+str(ts)+\".csv\")"
   ]
  },
  {
   "cell_type": "markdown",
   "metadata": {},
   "source": [
    "# Ανάλυση συναισθήματος σε tweets"
   ]
  },
  {
   "cell_type": "code",
   "execution_count": 6,
   "metadata": {},
   "outputs": [],
   "source": [
    "def startProcess(filename, listwords):\n",
    "    tweet_list_dt = pd.read_csv(filename)\n",
    "    #εξαλείφοται τα διπλότυπα tweets\n",
    "    tweet_list_dt.drop_duplicates(inplace = True,subset=\"text\")\n",
    "    #επαναδημιουργούνται τα Indexes του dataframe\n",
    "    tweet_list_dt.reset_index(drop=True, inplace = True)\n",
    "    return tweet_list_dt\n",
    "\n",
    "def clearTweets(tweet_list_dt, listwords):\n",
    "    for i in range(0,len(tweet_list_dt.text)):\n",
    "        tweet = tweet_list_dt.text[i]\n",
    "        #Απομάκρυνση των search terms\n",
    "        tweet = \" \".join(w for w in nltk.sent_tokenize(tweet, language=\"english\") if w not in listwords)\n",
    "        tweet = \" \".join(w.lower() for w in nltk.sent_tokenize(tweet, language=\"english\") if w.lower() not in listwords)\n",
    "            \n",
    "        #Απομάκρυση αποδεκτών (@*)\n",
    "        tweet = re.sub(\"@[A-Za-z0-9]+\",\"\",tweet) \n",
    "        tweet = re.sub(\"@\",\"\",tweet) \n",
    "        \n",
    "        tweet = re.sub(\"([^0-9A-Za-z \\t])|(\\w+:\\/\\/\\S+)\", \"\", tweet) \n",
    "        \n",
    "        #Απομάκρυνση των διαδοχικ΄ών κενών χαρακτήρων\n",
    "        tweet = \" \".join(tweet.split())\n",
    "        #Απομάκρυνση των emojis\n",
    "        tweet = ''.join(c for c in tweet if c not in emoji.UNICODE_EMOJI['en']) #Remove Emojis\n",
    "        #Απομάκρυνση του χαρακτήρα #\n",
    "        tweet = tweet.replace(\"#\", \"\").replace(\"_\", \" \") #Remove hashtag sign but keep the text\n",
    "        #Απομάκρυνση λέξεων που δεν είναι της αγγλικής\n",
    "        #tweet = \" \".join(w.lower() for w in nltk.sent_tokenize(tweet, language=\"english\") if w.lower() in words )\n",
    "        stop_words = set(stopwords.words(\"english\"))\n",
    "        #Απομάκρυνση των stop words (Αγγλικά)\n",
    "        tweet = sent_tokenize(tweet)\n",
    "        tweet = \" \".join(w for w in tweet if not w.lower() in stop_words)\n",
    "        tweet_list_dt.text[i] = tweet \n",
    "    return tweet_list_dt"
   ]
  },
  {
   "cell_type": "code",
   "execution_count": 16,
   "metadata": {},
   "outputs": [],
   "source": [
    "def performTextBlob(dt):\n",
    "    #Μεταβλητές του αποτελέσματος\n",
    "    positive = 0\n",
    "    negative = 0\n",
    "    neutral = 0 \n",
    "    polarity = 0\n",
    "    tweet_counter = 0\n",
    "    #Για κάθε tweet\n",
    "    for i in range(0, dt.shape[0]):\n",
    "        tweet_text = dt.iloc[i,3]\n",
    "        tweet_counter = tweet_counter + 1\n",
    "        #Υπολογίζεται η τιμή του polarity\n",
    "        #Αρνητικά θεωρούνται όσα έχουν polarity < -0.25\n",
    "        #Θετικά θεωρούνται όσα έχουν polarity > 0.25\n",
    "        #Ουδέτερα θεωρούνται τα υπόλοιπα\n",
    "        analysis = TextBlob(tweet_text)\n",
    "        score = SentimentIntensityAnalyzer().polarity_scores(tweet_text)\n",
    "        if analysis.sentiment.polarity > 0.25:\n",
    "            positive = positive + 1\n",
    "        elif analysis.sentiment.polarity < -0.25:\n",
    "            negative = negative + 1\n",
    "        else:\n",
    "            neutral = neutral + 1\n",
    "        #Υπολογισμός του μέσου polarity\n",
    "        polarity = polarity + score[\"compound\"]\n",
    "    positive_pc =  100.0*(float(positive) / float(tweet_counter))\n",
    "    negative_pc =  100.0*(float(negative) / float(tweet_counter))\n",
    "    neutral_pc =  100.0*(float(neutral) / float(tweet_counter))\n",
    "    polarity = 100.0 * (float(polarity) / float(tweet_counter))\n",
    "    #Εμφάνιση των στατιστικών\n",
    "    print(\"Πλήθος Αναρτήσεων:\" +str(dt.shape[0]))\n",
    "    print(\"Θετικές Αναρτήσεις:\"+str(positive)+\" [\"+str(positive_pc)+\"]\")\n",
    "    print(\"Αρνητικές Αναρτήσεις:\"+str(negative)+\" [\"+str(negative_pc)+\"]\")\n",
    "    print(\"Ουδέτερες Αναρτήσεις:\"+str(neutral)+\" [\"+str(neutral_pc)+\"]\")\n",
    "    print(\"Μέση Πολικότητα:\"+str(polarity))\n",
    "    #Εμφάνιση διαγράμματος πίττας\n",
    "    plt.pie([positive, neutral, negative], labels = ['Positive','Neutral','Negative'])\n",
    "    plt.show() \n",
    "    return [positive_pc, negative_pc, neutral_pc, polarity]"
   ]
  },
  {
   "cell_type": "code",
   "execution_count": 23,
   "metadata": {},
   "outputs": [],
   "source": [
    "def performAfinn(dt):\n",
    "        #Μεταβλητές του αποτελέσματος\n",
    "        positives = 0\n",
    "        negatives = 0\n",
    "        neutrals = 0\n",
    "        polarity = 0\n",
    "        #Αρχικοποίηση        \n",
    "        af = Afinn()\n",
    "\n",
    "        #Υπολογισμός των sentiment scores (polarity) και των labels\n",
    "        #για κάθε ένα από τα tweets\n",
    "        sentiment_scores = [af.score(article) for article in dt.text]\n",
    "        sentiment_category = ['positive' if score > 0 \n",
    "                                  else 'negative' if score < 0 \n",
    "                                      else 'neutral' \n",
    "                                          for score in sentiment_scores]\n",
    "        #Καταμέτρηση των tweets ανά κατηγορία\n",
    "        for item in sentiment_category:\n",
    "            if item == \"positive\":\n",
    "                positives = positives + 1\n",
    "            elif item == \"negative\":\n",
    "                negatives = negatives + 1\n",
    "            else:\n",
    "                neutrals = neutrals + 1 \n",
    "        #Υπολογισμός των ποσοστών σε κάθε κατηγορία\n",
    "        positives_pc =  100.0*(float(positives) / float(len(dt.text)))\n",
    "        negatives_pc =  100.0*(float(negatives) /float(len(dt.text)))\n",
    "        neutrals_pc =  100.0*(float(neutrals) / float(len(dt.text)))\n",
    "        #Υπολογισμός του μέσου polarity\n",
    "        polarity = 100.0 * (float(polarity) /float(len(dt.text)))\n",
    "        #Εμ΄φάνιση στατιστικών\n",
    "        print(\"Πλήθος Αναρτήσεων:\" +str(float(len(dt.text))))\n",
    "        print(\"Θετικές Αναρτήσεις:\"+str(positives)+\" [\"+str(positives_pc)+\"]\")\n",
    "        print(\"Αρνητικές Αναρτήσεις:\"+str(negatives)+\" [\"+str(negatives_pc)+\"]\")\n",
    "        print(\"Ουδέτερες Αναρτήσεις:\"+str(neutrals)+\" [\"+str(neutrals_pc)+\"]\")\n",
    "        print(\"Μέση Πολικότητα:\"+str(polarity))\n",
    "        #Εμφάνιση διαγρ΄άμματος πίττας\n",
    "        plt.pie([positives, neutrals, negatives], labels = ['Positive','Neutral','Negative'])\n",
    "        plt.show()\n",
    "        return [positives_pc, negatives_pc, neutrals_pc, polarity]"
   ]
  },
  {
   "cell_type": "code",
   "execution_count": 45,
   "metadata": {},
   "outputs": [],
   "source": [
    " def performsSentiWordNet(dt):\n",
    "        #Μεταβλητές του αποτελέσματος\n",
    "        positives = 0\n",
    "        negatives = 0\n",
    "        neutrals = 0\n",
    "        #Λέξεις για τις οποίες δεν μπορεί να προσδιοριστεί το με΄ρος του λόγου τους\n",
    "        missing_words=[]\n",
    "        #Δημιουργία stemmer\n",
    "        pstem = PorterStemmer()\n",
    "        #Δημιουργία lemmatizer\n",
    "        lem = WordNetLemmatizer()\n",
    "        #Καθορισμός των stop words\n",
    "        stop_words = stopwords.words(\"english\")\n",
    "        #Για κάθε tweet\n",
    "        for i in range(0,len(dt)):\n",
    "            #Λήψη του κειμένου\n",
    "            text = dt.text[i]\n",
    "            #tokenize\n",
    "            tokens = nltk.word_tokenize(text)\n",
    "            #Απόδοση tag στο κείμενο\n",
    "            tagged_sent = pos_tag(tokens)\n",
    "            #Διατήρηση της λέξης σε λίστα μαζί με το tag που της δόθηκε\n",
    "            store_it = [(word, map_tag('en-ptb', 'universal', tag)) for word, tag in tagged_sent]\n",
    "            #inialize positive and negative total score\n",
    "            pos_total=0\n",
    "            neg_total=0\n",
    "            #Δημιουργία tag ανάλογα με το μέρος του λόγου που ανήκει η λέξη\n",
    "            for word,tag in store_it:\n",
    "                if(tag=='NOUN'):\n",
    "                    tag='n'\n",
    "                elif(tag=='VERB'):\n",
    "                    tag='v'\n",
    "                elif(tag=='ADJ'):\n",
    "                    tag='a'\n",
    "                elif(tag=='ADV'):\n",
    "                    tag = 'r'\n",
    "                else:\n",
    "                    tag='nothing'\n",
    "                this_word_pos = 0\n",
    "                this_word_neg = 0\n",
    "                #Αν το μέρος του λόγου εντοπίστηκε\n",
    "                if(tag!='nothing'):\n",
    "                    #Διαμόρφωση της λέξης για να αποτελέσει παράμετρο της\n",
    "                    #συνάρτησης senti_synset\n",
    "                    concat = word+'.'+tag+'.01'\n",
    "                    #Υπολογισμός θετικότητας και αρνητικότητας\n",
    "                    try:\n",
    "                        this_word_pos=swn.senti_synset(concat).pos_score()\n",
    "                        this_word_neg=swn.senti_synset(concat).neg_score()\n",
    "                    except Exception as e:\n",
    "                        #Αν δεν υπολογιστήκε η θετικότητα και η αρνητικότητα\n",
    "                        #δοκιμάζεται να γίνει πρώτα lemmatize πριν τον \n",
    "                        #υπολογισμό\n",
    "                        wor = lem.lemmatize(word)\n",
    "                        concat = wor+'.'+tag+'.01'\n",
    "                        try:\n",
    "                            this_word_pos=swn.senti_synset(concat).pos_score()\n",
    "                            this_word_neg=swn.senti_synset(concat).neg_score()\n",
    "                        except Exception as e:\n",
    "                            #Αν δεν υπολογιστήκε η θετικότητα και η αρνητικότητα\n",
    "                            #δοκιμάζεται να γίνει πρώτα stemming πριν τον \n",
    "                            #υπολογισμό\n",
    "                            wor = pstem.stem(word)\n",
    "                            concat = wor+'.'+tag+'.01'\n",
    "                            try:\n",
    "                                this_word_pos=swn.senti_synset(concat).pos_score()\n",
    "                                this_word_neg=swn.senti_synset(concat).neg_score()\n",
    "                            except:\n",
    "                                #Αφο΄υ δεν μπόρεσε να γίνει υπολογισμός \n",
    "                                #προχωράμε στην επόμενη\n",
    "                                missing_words.append(word)\n",
    "                                continue\n",
    "                    #Υπολογισμός ολικής θετικότητας για το tweet\n",
    "                    pos_total+=this_word_pos\n",
    "                    #Υπολογισμός ολικής αρνητικότητας για το tweet\n",
    "                    neg_total+=this_word_neg\n",
    "            #Χαρακτηριστιρισμος του tweet ανάλογα με την θετικότητα\n",
    "            #και την αρνητικότητα των λέξεων που το αποτελούν\n",
    "            if(pos_total!=0 or neg_total!=0):\n",
    "                if(pos_total>neg_total):\n",
    "                    positives = positives + 1\n",
    "                else:\n",
    "                    negatives = negatives + 1\n",
    "            else:\n",
    "                neutrals = neutrals + 1\n",
    "        #εκτύπωση στατιστικών    \n",
    "        print(\"Θετικές Αναρτήσεις:\"+str(positives)+\" (\"+str(100*positives/(positives+negatives+neutrals))+\")\")\n",
    "        print(\"Ουδέτερες Αναρτήσεις:\"+str(neutrals)+\" (\"+str(100*neutrals/(positives+negatives+neutrals))+\")\")\n",
    "        print(\"Αρνητικές Αναρτήσεις:\"+str(negatives)+\" (\"+str(100*negatives/(positives+negatives+neutrals))+\")\")\n",
    "        #εμφάνιση διαγράμματος πίττας\n",
    "        plt.pie([positives, negatives, neutrals], labels = ['Positive','Negative','Neutral',])\n",
    "        plt.show() \n",
    "        return [100*positives/(positives+negatives+neutrals), 100*negatives/(positives+negatives+neutrals),100*neutrals/(positives+negatives+neutrals)]"
   ]
  },
  {
   "cell_type": "code",
   "execution_count": 38,
   "metadata": {},
   "outputs": [],
   "source": [
    "def performSenticNet(dt):\n",
    "        #Μεταβλητές του αποτελέσματος\n",
    "        positives = 0\n",
    "        neutrals = 0;\n",
    "        negatives = 0\n",
    "        #Για κάθε tweet\n",
    "        for i in range(0,len(dt.text)):\n",
    "            txt = dt.text[i]\n",
    "            polarity = 0;\n",
    "            count = 0\n",
    "            #Γίνεται διαχωρισμός των λέξεων και εντάσσονται σε λίστα\n",
    "            l_text = txt.split()\n",
    "            #Για κάθε λέξη του tweet\n",
    "            for cur in l_text:\n",
    "                #Αρχικοποίηση\n",
    "                sn = SenticNet()\n",
    "                try:\n",
    "                    #Υπολογισμός του polarity και προσθήκη στο συνολικό\n",
    "                    polarity = polarity + float(sn.polarity_value(cur))\n",
    "                    count = count + 1\n",
    "                except:\n",
    "                    polarity = polarity + 0\n",
    "            #Αν δεν υπολογιστηκε polarity για καμία λέξη τότε αυτό γίνεται 0\n",
    "            if count == 0:\n",
    "                p = 0\n",
    "            else:\n",
    "                #Μέσο polarity\n",
    "                p = polarity/count\n",
    "            #Υπολογίζεται η τιμή του polarity\n",
    "            #Αρνητικά θεωρούνται όσα έχουν polarity < -0.33\n",
    "            #Θετικά θεωρούνται όσα έχουν polarity > 0.33\n",
    "            #Ουδέτερα θεωρούνται τα υπόλοιπα\n",
    "            if p<-0.33:\n",
    "                negatives = negatives + 1\n",
    "            elif p>0.33:\n",
    "                positives = positives + 1\n",
    "            else:\n",
    "                neutrals = neutrals + 1\n",
    "        #Εμφανίζονται τα στατιστικά\n",
    "        print(\"Positives:\"+str(positives)+\" (\"+str(positives/(positives+negatives+neutrals))+\")\")\n",
    "        print(\"Neutrals:\"+str(neutrals)+\" (\"+str(neutrals/(positives+negatives+neutrals))+\")\")\n",
    "        print(\"Negatives:\"+str(negatives)+\" (\"+str(negatives/(positives+negatives+neutrals))+\")\")     \n",
    "        #Εμφανίζεται το διάγραμμα π΄ίττας\n",
    "        plt.pie([positives, negatives, neutrals], labels = ['Positive','Negative','Neutral'])\n",
    "        plt.show() \n",
    "        return [100*positives/(positives+negatives+neutrals), 100*negatives/(positives+negatives+neutrals),100*neutrals/(positives+negatives+neutrals)]"
   ]
  },
  {
   "cell_type": "code",
   "execution_count": 7,
   "metadata": {},
   "outputs": [],
   "source": [
    "#\"Putin.csv\"\n",
    "keywords = [\"Putin\",\"#Putin\"]\n",
    "dfPutin = startProcess(\"Putin.csv\", keywords)\n",
    "dfPutin = clearTweets(dfPutin, keywords)"
   ]
  },
  {
   "cell_type": "code",
   "execution_count": 17,
   "metadata": {},
   "outputs": [
    {
     "name": "stdout",
     "output_type": "stream",
     "text": [
      "Πλήθος Αναρτήσεων:19914\n",
      "Θετικές Αναρτήσεις:2649 [13.302199457667975]\n",
      "Αρνητικές Αναρτήσεις:1683 [8.45134076529075]\n",
      "Ουδέτερες Αναρτήσεις:15582 [78.24645977704128]\n",
      "Μέση Πολικότητα:-5.177151752535901\n"
     ]
    },
    {
     "data": {
      "image/png": "[encoded data removed]",
      "text/plain": [
       "<Figure size 432x288 with 1 Axes>"
      ]
     },
     "metadata": {},
     "output_type": "display_data"
    },
    {
     "data": {
      "text/plain": [
       "[13.302199457667975, 8.45134076529075, 78.24645977704128, -5.177151752535901]"
      ]
     },
     "execution_count": 17,
     "metadata": {},
     "output_type": "execute_result"
    }
   ],
   "source": [
    "performTextBlob(dfPutin)"
   ]
  },
  {
   "cell_type": "code",
   "execution_count": 24,
   "metadata": {},
   "outputs": [
    {
     "name": "stdout",
     "output_type": "stream",
     "text": [
      "Πλήθος Αναρτήσεων:19914.0\n",
      "Θετικές Αναρτήσεις:5352 [26.87556492919554]\n",
      "Αρνητικές Αναρτήσεις:7641 [38.36999096113287]\n",
      "Ουδέτερες Αναρτήσεις:6921 [34.75444410967159]\n",
      "Μέση Πολικότητα:0.0\n"
     ]
    },
    {
     "data": {
      "image/png": "[encoded data removed]",
      "text/plain": [
       "<Figure size 432x288 with 1 Axes>"
      ]
     },
     "metadata": {},
     "output_type": "display_data"
    },
    {
     "data": {
      "text/plain": [
       "[26.87556492919554, 38.36999096113287, 34.75444410967159, 0.0]"
      ]
     },
     "execution_count": 24,
     "metadata": {},
     "output_type": "execute_result"
    }
   ],
   "source": [
    "performAfinn(dfPutin)"
   ]
  },
  {
   "cell_type": "code",
   "execution_count": 46,
   "metadata": {},
   "outputs": [
    {
     "name": "stdout",
     "output_type": "stream",
     "text": [
      "Θετικές Αναρτήσεις:7642 (38.375012553982124)\n",
      "Ουδέτερες Αναρτήσεις:4164 (20.909912624284424)\n",
      "Αρνητικές Αναρτήσεις:8108 (40.71507482173345)\n"
     ]
    },
    {
     "data": {
      "image/png": "[encoded data removed]",
      "text/plain": [
       "<Figure size 432x288 with 1 Axes>"
      ]
     },
     "metadata": {},
     "output_type": "display_data"
    },
    {
     "data": {
      "text/plain": [
       "[38.375012553982124, 40.71507482173345, 20.909912624284424]"
      ]
     },
     "execution_count": 46,
     "metadata": {},
     "output_type": "execute_result"
    }
   ],
   "source": [
    "performsSentiWordNet(dfPutin)"
   ]
  },
  {
   "cell_type": "code",
   "execution_count": 39,
   "metadata": {},
   "outputs": [
    {
     "name": "stdout",
     "output_type": "stream",
     "text": [
      "Positives:2984 (0.14984433062167318)\n",
      "Neutrals:11177 (0.5612634327608718)\n",
      "Negatives:5753 (0.28889223661745506)\n"
     ]
    },
    {
     "data": {
      "image/png": "[encoded data removed]",
      "text/plain": [
       "<Figure size 432x288 with 1 Axes>"
      ]
     },
     "metadata": {},
     "output_type": "display_data"
    },
    {
     "data": {
      "text/plain": [
       "[14.98443306216732, 28.889223661745504, 56.12634327608718]"
      ]
     },
     "execution_count": 39,
     "metadata": {},
     "output_type": "execute_result"
    }
   ],
   "source": [
    "performSenticNet(dfPutin)"
   ]
  },
  {
   "cell_type": "code",
   "execution_count": 40,
   "metadata": {},
   "outputs": [
    {
     "name": "stderr",
     "output_type": "stream",
     "text": [
      "C:\\Users\\Admin\\anaconda3\\lib\\site-packages\\ipykernel_launcher.py:34: SettingWithCopyWarning: \n",
      "A value is trying to be set on a copy of a slice from a DataFrame\n",
      "\n",
      "See the caveats in the documentation: https://pandas.pydata.org/pandas-docs/stable/user_guide/indexing.html#returning-a-view-versus-a-copy\n"
     ]
    }
   ],
   "source": [
    "#\"Zelenskyy.csv\"\n",
    "keywords = [\"Zelenskyy\",\"#Zelenskyy\"]\n",
    "dfZelenskyy = startProcess(\"Zelenskyy.csv\", keywords)\n",
    "dfZelenskyy = clearTweets(dfZelenskyy, keywords)"
   ]
  },
  {
   "cell_type": "code",
   "execution_count": 41,
   "metadata": {},
   "outputs": [
    {
     "name": "stdout",
     "output_type": "stream",
     "text": [
      "Πλήθος Αναρτήσεων:9792\n",
      "Θετικές Αναρτήσεις:1257 [12.837009803921568]\n",
      "Αρνητικές Αναρτήσεις:774 [7.904411764705882]\n",
      "Ουδέτερες Αναρτήσεις:7761 [79.25857843137256]\n",
      "Μέση Πολικότητα:-8.099753880718923\n"
     ]
    },
    {
     "data": {
      "image/png": "[encoded data removed]",
      "text/plain": [
       "<Figure size 432x288 with 1 Axes>"
      ]
     },
     "metadata": {},
     "output_type": "display_data"
    },
    {
     "data": {
      "text/plain": [
       "[12.837009803921568, 7.904411764705882, 79.25857843137256, -8.099753880718923]"
      ]
     },
     "execution_count": 41,
     "metadata": {},
     "output_type": "execute_result"
    }
   ],
   "source": [
    "performTextBlob(dfZelenskyy)"
   ]
  },
  {
   "cell_type": "code",
   "execution_count": 42,
   "metadata": {},
   "outputs": [
    {
     "name": "stdout",
     "output_type": "stream",
     "text": [
      "Πλήθος Αναρτήσεων:9792.0\n",
      "Θετικές Αναρτήσεις:2359 [24.09109477124183]\n",
      "Αρνητικές Αναρτήσεις:4027 [41.12540849673202]\n",
      "Ουδέτερες Αναρτήσεις:3406 [34.783496732026144]\n",
      "Μέση Πολικότητα:0.0\n"
     ]
    },
    {
     "data": {
      "image/png": "[encoded data removed]",
      "text/plain": [
       "<Figure size 432x288 with 1 Axes>"
      ]
     },
     "metadata": {},
     "output_type": "display_data"
    },
    {
     "data": {
      "text/plain": [
       "[24.09109477124183, 41.12540849673202, 34.783496732026144, 0.0]"
      ]
     },
     "execution_count": 42,
     "metadata": {},
     "output_type": "execute_result"
    }
   ],
   "source": [
    "performAfinn(dfZelenskyy)"
   ]
  },
  {
   "cell_type": "code",
   "execution_count": 47,
   "metadata": {},
   "outputs": [
    {
     "name": "stdout",
     "output_type": "stream",
     "text": [
      "Θετικές Αναρτήσεις:3838 (39.1952614379085)\n",
      "Ουδέτερες Αναρτήσεις:1782 (18.198529411764707)\n",
      "Αρνητικές Αναρτήσεις:4172 (42.6062091503268)\n"
     ]
    },
    {
     "data": {
      "image/png": "[encoded data removed]",
      "text/plain": [
       "<Figure size 432x288 with 1 Axes>"
      ]
     },
     "metadata": {},
     "output_type": "display_data"
    },
    {
     "data": {
      "text/plain": [
       "[39.1952614379085, 42.6062091503268, 18.198529411764707]"
      ]
     },
     "execution_count": 47,
     "metadata": {},
     "output_type": "execute_result"
    }
   ],
   "source": [
    "performsSentiWordNet(dfZelenskyy)"
   ]
  },
  {
   "cell_type": "code",
   "execution_count": 44,
   "metadata": {},
   "outputs": [
    {
     "name": "stdout",
     "output_type": "stream",
     "text": [
      "Positives:2755 (0.28135212418300654)\n",
      "Neutrals:5335 (0.5448325163398693)\n",
      "Negatives:1702 (0.17381535947712418)\n"
     ]
    },
    {
     "data": {
      "image/png": "[encoded data removed]",
      "text/plain": [
       "<Figure size 432x288 with 1 Axes>"
      ]
     },
     "metadata": {},
     "output_type": "display_data"
    },
    {
     "data": {
      "text/plain": [
       "[28.135212418300654, 17.38153594771242, 54.48325163398693]"
      ]
     },
     "execution_count": 44,
     "metadata": {},
     "output_type": "execute_result"
    }
   ],
   "source": [
    "performSenticNet(dfZelenskyy)"
   ]
  },
  {
   "cell_type": "code",
   "execution_count": null,
   "metadata": {},
   "outputs": [],
   "source": []
  }
 ],
 "metadata": {
  "kernelspec": {
   "display_name": "Python 3",
   "language": "python",
   "name": "python3"
  },
  "language_info": {
   "codemirror_mode": {
    "name": "ipython",
    "version": 3
   },
   "file_extension": ".py",
   "mimetype": "text/x-python",
   "name": "python",
   "nbconvert_exporter": "python",
   "pygments_lexer": "ipython3",
   "version": "3.7.1"
  }
 },
 "nbformat": 4,
 "nbformat_minor": 4
}
