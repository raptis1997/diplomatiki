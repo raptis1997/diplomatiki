{
 "cells": [
  {
   "cell_type": "code",
   "execution_count": 1,
   "metadata": {},
   "outputs": [],
   "source": [
    "#!pip install pydot"
   ]
  },
  {
   "cell_type": "code",
   "execution_count": 75,
   "metadata": {},
   "outputs": [
    {
     "name": "stderr",
     "output_type": "stream",
     "text": [
      "[nltk_data] Downloading package stopwords to\n",
      "[nltk_data]     C:\\Users\\Admin\\AppData\\Roaming\\nltk_data...\n",
      "[nltk_data]   Package stopwords is already up-to-date!\n",
      "[nltk_data] Downloading package vader_lexicon to\n",
      "[nltk_data]     C:\\Users\\Admin\\AppData\\Roaming\\nltk_data...\n",
      "[nltk_data]   Package vader_lexicon is already up-to-date!\n",
      "[nltk_data] Downloading package averaged_perceptron_tagger to\n",
      "[nltk_data]     C:\\Users\\Admin\\AppData\\Roaming\\nltk_data...\n",
      "[nltk_data]   Package averaged_perceptron_tagger is already up-to-\n",
      "[nltk_data]       date!\n",
      "[nltk_data] Downloading package sentiwordnet to\n",
      "[nltk_data]     C:\\Users\\Admin\\AppData\\Roaming\\nltk_data...\n",
      "[nltk_data]   Package sentiwordnet is already up-to-date!\n",
      "[nltk_data] Downloading package words to\n",
      "[nltk_data]     C:\\Users\\Admin\\AppData\\Roaming\\nltk_data...\n",
      "[nltk_data]   Package words is already up-to-date!\n"
     ]
    }
   ],
   "source": [
    "import pandas as pd\n",
    "#pandas\n",
    "import numpy as np\n",
    "#numpy\n",
    "import matplotlib.pyplot as plt\n",
    "#matplotlib\n",
    "import seaborn as sns\n",
    "#seaborn\n",
    "from sklearn.model_selection import train_test_split\n",
    "from sklearn.metrics import classification_report\n",
    "#sklearn\n",
    "from keras.preprocessing.text import Tokenizer\n",
    "from keras.preprocessing.sequence import pad_sequences\n",
    "from keras.models import Sequential\n",
    "from keras.layers import Activation, Dense, Dropout, Embedding, Flatten, Conv1D, MaxPooling1D, LSTM\n",
    "from keras import utils\n",
    "from keras.callbacks import ReduceLROnPlateau, EarlyStopping\n",
    "from keras.optimizers import Adam\n",
    "#keras\n",
    "import tensorflow as tf\n",
    "#tensorflow\n",
    "import nltk \n",
    "nltk.download('stopwords')\n",
    "from nltk.corpus import stopwords\n",
    "from nltk.stem import SnowballStemmer\n",
    "#nltk\n",
    "import re\n",
    "import os\n",
    "#other useful stuff\n",
    "from wordcloud import WordCloud, STOPWORDS\n",
    "#wordclouds and cloud stopwords\n",
    "import warnings\n",
    "warnings.filterwarnings(\"ignore\")\n",
    "import pydot\n",
    "import string\n",
    "\n",
    "from textblob import TextBlob\n",
    "import sys\n",
    "import tweepy\n",
    "import matplotlib.pyplot as plt\n",
    "import pandas as pd\n",
    "import numpy as np\n",
    "import os\n",
    "import nltk\n",
    "import pycountry\n",
    "import re\n",
    "import string\n",
    "from wordcloud import WordCloud, STOPWORDS\n",
    "from PIL import Image\n",
    "from nltk.sentiment.vader import SentimentIntensityAnalyzer\n",
    "from langdetect import detect\n",
    "from nltk.stem import SnowballStemmer\n",
    "from nltk.sentiment.vader import SentimentIntensityAnalyzer\n",
    "from nltk.tokenize import sent_tokenize, word_tokenize\n",
    "from sklearn.feature_extraction.text import CountVectorizer\n",
    "nltk.download('vader_lexicon')\n",
    "from nltk.corpus import webtext\n",
    "from nltk.corpus import stopwords\n",
    "import matplotlib.pyplot as plt\n",
    "import datetime\n",
    "\n",
    "\n",
    "import pandas as pd\n",
    "from langdetect import detect\n",
    "\n",
    "import calendar\n",
    "import time\n",
    "\n",
    "import emoji\n",
    "\n",
    "from afinn import Afinn\n",
    "\n",
    "from senticnet.senticnet import SenticNet\n",
    "\n",
    "from senticnet.babelsenticnet import BabelSenticNet\n",
    "\n",
    "import re\n",
    "\n",
    "import nltk\n",
    "from nltk.corpus import sentiwordnet as swn\n",
    "from nltk import pos_tag\n",
    "from nltk.tag import str2tuple, map_tag\n",
    "from nltk.corpus import stopwords\n",
    "from nltk.stem import WordNetLemmatizer\n",
    "from nltk.stem import PorterStemmer\n",
    "from nltk.corpus import wordnet as wn\n",
    "from nltk.stem import PorterStemmer\n",
    "\n",
    "import nltk\n",
    "nltk.download('averaged_perceptron_tagger')\n",
    "\n",
    "import nltk\n",
    "nltk.download('sentiwordnet')\n",
    "\n",
    "import nltk\n",
    "nltk.download('words')\n",
    "words = set(nltk.corpus.words.words())\n",
    "\n",
    "from nltk.tokenize import word_tokenize\n",
    "from sklearn.feature_extraction.text import TfidfVectorizer\n",
    "from sklearn.model_selection import train_test_split\n",
    "\n",
    "# ML Libraries\n",
    "from sklearn.metrics import accuracy_score\n",
    "from sklearn.naive_bayes import MultinomialNB\n",
    "from sklearn.linear_model import LogisticRegression\n",
    "from sklearn.svm import SVC\n",
    "\n",
    "from nltk.tokenize import word_tokenize\n",
    "from nltk.util import ngrams\n",
    "\n",
    "from sklearn.neural_network import MLPClassifier\n",
    "from sklearn.datasets import make_classification\n",
    "from sklearn.model_selection import train_test_split\n",
    "\n",
    "import collections\n",
    "\n"
   ]
  },
  {
   "cell_type": "code",
   "execution_count": 2,
   "metadata": {},
   "outputs": [],
   "source": [
    "#Global Vars\n",
    "GL_realDataFile = None\n",
    "GL_realData_All = None\n",
    "GL_realData = None\n",
    "GL_realDataSize = None\n",
    "\n",
    "GL_trainDataFile = None\n",
    "GL_trainData_All = None\n",
    "GL_trainData = None\n",
    "GL_trainDataSize = None\n",
    "\n",
    "GL_criteria = None\n",
    "\n",
    "GL_Data = None\n",
    "\n",
    "GL_DataNgrams = [None, None]\n",
    "GL_X_trainData = None\n",
    "GL_Y_trainData = None\n",
    "GL_X_testData = None\n",
    "GL_Y_testData = None"
   ]
  },
  {
   "cell_type": "code",
   "execution_count": 155,
   "metadata": {},
   "outputs": [],
   "source": [
    "def getDataFromFile(inputFile, wrds):\n",
    "    #Ανάγνωση του αρχείου που θα χρησιμοποιηθεί για την εκπαίδευση του μοντέλου\n",
    "    GL_trainDataFile = pd.read_csv(inputFile, encoding='latin-1', header=None)\n",
    "    #Οι στήλες αλλάζουν ονομασίες\n",
    "    GL_trainDataFile = GL_trainDataFile.rename(columns={0: 'Sentiment', 1: 'ID', 2: 'Date', 3: 'Query', 4: 'Username', 5: 'Body', 6:\"Language\"})\n",
    "    #Διατηρούνται μόνο οι απαραίτητες στήλες\n",
    "    #1. Διατηρείται επιπλέον πληροφορία \n",
    "    GL_trainData = GL_trainDataFile.drop(['ID','Date','Query','Username'], axis=1, inplace=False)\n",
    "    #Κρατούνται τα κριτήρια ανάκτησης των αναρτήσεων\n",
    "    GL_criteria = wrds\n",
    "    return (GL_trainDataFile, GL_trainData, GL_criteria)\n",
    "\n",
    "#καθάρισμα των tweets που θα χρησιμοποιηθούν για την εκπαίδευση των μοντέλων\n",
    "def readCleanTrainDataFromFile(inputFile):\n",
    "    GL_trainData = pd.read_csv(inputFile, encoding='latin-1')\n",
    "    #για να δημιουργηθούν πιο γρήγορα τα μοντέλα χρησιμοποιούνται 200000 εγγραφές και \n",
    "    #κρατούνται μόνο ο χαρακτηρισμός των tweets και το περιεχόμενο τους\n",
    "    GL_trainData = GL_trainData.loc[:,['Sentiment','Body']].sample(n=200000)\n",
    "    #το πλήθος των tweets που χρησιμοποιούνται για εκπαίδευση\n",
    "    GL_trainDataSize = GL_trainData.shape[0]\n",
    "    return (GL_trainData, GL_trainDataSize)\n",
    "\n",
    "   \n",
    "#Γίνεται καθαρισμός των tweets\n",
    "def cleanData(DATA=None, criteria = None):\n",
    "    for i in range(0,len(DATA.Body)):\n",
    "        try:\n",
    "            tweet = DATA.Body[i]\n",
    "            english_stopwords = stopwords.words('english')\n",
    "            stemmer = SnowballStemmer('english')\n",
    "            #Αφαιρούνται οι λέξεις που χρησιμοποιήθηκαν για την αναζήτηση των tweets\n",
    "            tweet = \" \".join(w for w in nltk.wordpunct_tokenize(tweet) if w not in criteria)\n",
    "            tweet = \" \".join(w.lower() for w in nltk.wordpunct_tokenize(tweet) if w.lower() not in criteria)\n",
    "            #Αφαιρεση των όρων που ξεκινάνε με @\n",
    "            tweet = re.sub(\"@[A-Za-z0-9]+\",\"\",tweet) \n",
    "            tweet = re.sub(\"@\",\"\",tweet) \n",
    "            #Αφαίρεση των links\n",
    "            tweet = re.sub(\"([^0-9A-Za-z \\t])|(\\w+:\\/\\/\\S+)\", \"\", tweet) \n",
    "            #Αφαιρούνται περιπ΄τωσεις όπου βρ΄ισκονται διαδοχικά πάνω από 2 κενά.\n",
    "            tweet = \" \".join(tweet.split())\n",
    "            #Αφαιρούνται τα εικονίδια\n",
    "            tweet = ''.join(c for c in tweet if c not in emoji.UNICODE_EMOJI['en']) #Remove Emojis\n",
    "            #Αφαίρεση των χαρακτηρων #\n",
    "            tweet = tweet.replace(\"#\", \"\")\n",
    "            #Αφαίρεση των χαρακτηρων _\n",
    "            tweet = tweet.replace(\"_\", \" \") \n",
    "            #Αφαίρεση μη αγγλικών λέξεων\n",
    "            tweet = \" \".join(w.lower() for w in nltk.wordpunct_tokenize(tweet) if w.lower() in words )\n",
    "            #Αφαίρεση των αγγλικών stop words\n",
    "            stop_words = set(stopwords.words('english'))\n",
    "            tweet = word_tokenize(tweet)\n",
    "            tweet = \" \".join(w for w in tweet if not w.lower() in stop_words)\n",
    "\n",
    "            #συγκεντρώνονται σε λίστα όλοι οι όροι που περιλαμβάνονται στο μηνυμα \n",
    "            tokens = []\n",
    "            for token in tweet.split():\n",
    "                if token not in english_stopwords:\n",
    "                    tokens.append(stemmer.stem(token))\n",
    "            #αφαιρούνται τα σημεία στίξης\n",
    "            table = str.maketrans('', '', string.punctuation)\n",
    "            tokens = [w.translate(table) for w in tokens]\n",
    "            ps = PorterStemmer()\n",
    "            tokens = [ps.stem(w) for w in tokens]\n",
    "            lemmatizer = WordNetLemmatizer()\n",
    "            tokens = [lemmatizer.lemmatize(w, pos='a') for w in tokens]\n",
    "            #Επιστρέφει τη λίστα με τους όρους του μηνύματος που θα χρησιμοποιηθούν στη διαδικασία\n",
    "            #το καθαρισμενο tweet περνάει ακόμα ένα στάδιο προεπξεργασίας\n",
    "            DATA.Body[i] = \" \".join(tokens)\n",
    "        except:\n",
    "            continue\n",
    "    return DATA\n",
    "            \n",
    "            \n",
    "#η λίστα των n-grams μετατρέπεται σε string\n",
    "def listToString(s):\n",
    "    return \" \".join(s);\n",
    "\n",
    "#ανάγνωση πραγματικών tweets από αρχείο\n",
    "def readActualData(filename):\n",
    "    GL_realData = pd.read_csv(filename)\n",
    "    #διαγραφή των διπλότυπων\n",
    "    GL_realData.drop_duplicates(inplace = True,subset=\"text\")\n",
    "    #χαρακτηρισμός όλων σαν αρνητικά \n",
    "    GL_realData['Sentiment']=0\n",
    "    #κρατούνται μόνο οι στήλες του συναισθήματος και του κειμένου\n",
    "    GL_realData = GL_realData.loc[:,['Sentiment','text']]\n",
    "    GL_realData.Sentiment = 0\n",
    "    #μετονομασία της στήλης text σε Body\n",
    "    GL_realData=GL_realData.rename(columns={\"text\":\"Body\"})\n",
    "    #αναδιάταξη των index του dataframe\n",
    "    GL_realData.reset_index(drop=True, inplace = True)\n",
    "    #κρατείται το πλήθος των πραγματικών tweets\n",
    "    GL_realDataSize = GL_realData.shape[0]\n",
    "    return (GL_realData, GL_realDataSize)\n",
    "        \n",
    "#Συνένωση των tweet εκπαίδευσης και των πραγματικών σε ένα σύνολο    \n",
    "def concatenateTrainAndActualData(GL_traintData, GL_realData):\n",
    "    GL_Data = pd.concat([GL_trainData, pd.DataFrame(GL_realData.values, columns=['Sentiment','Body'])])\n",
    "    #γίνεται αναδιάταξη των indexes\n",
    "    GL_Data.reset_index(drop=True, inplace = True)\n",
    "    #κάθε nan εγγραφή αντικαθίσταται με κεν΄ό\n",
    "    GL_Data.Body = GL_Data.Body.fillna(' ')\n",
    "    #κρατείται το μέγεθος του τελικού συνόλου tweets\n",
    "    GL_DataSize = GL_Data.shape[0]\n",
    "    return (GL_Data, GL_DataSize)\n",
    "    \n",
    "#Δημιουργεί τα TRAIN και TEST σύνολα για n-grams\n",
    "def prepareXsetYset(data, j):\n",
    "    vector = TfidfVectorizer(sublinear_tf=True)\n",
    "    #αναδιάταξη των συνολων για να χρησιμοποιηθούν από τις συναρτ΄ήσεις εκπαίδευσης και αξιολόγησης\n",
    "    tf_vector = vector.fit(np.array(data.iloc[:, 1]).ravel())\n",
    "    X = tf_vector.transform(np.array(data.iloc[:, 1]).ravel())\n",
    "    y = np.array(data.iloc[:, 0]).ravel()\n",
    "    #Δημιουργούνται τα σύνολα\n",
    "    x0 = X[0:j]\n",
    "    y0 = y[0:j]\n",
    "    y0 = np.asarray(y0, dtype=\"|S6\")\n",
    "    x1 = X[j:X.shape[0]]\n",
    "    return (x0,y0,x1)\n",
    "        \n",
    "#Δημιουργεί εκδοχές των δεδομένων με 2, 3, 4 grams\n",
    "def makeNgramsDataVersions(data, n, real = \"True\"):\n",
    "    GL_DataNgrams = []\n",
    "    #Δημιουργείται ένα αντίγραφο του συνόλου των δεδομένων\n",
    "    cpy = data.copy()\n",
    "    #διαμόρφωση του συνόλου των δεδομ΄ένων\n",
    "    for i in range(0,cpy.shape[0]):\n",
    "        n_grams = ngrams(word_tokenize(cpy.Body[i]), n)\n",
    "        #Δημιουργία της λίστας των ngrams\n",
    "        cpy.Body[i] = [ ' '.join(grams) for grams in n_grams]\n",
    "        #Μετατροπή της λίστας των ngrams σε string\n",
    "        cpy.Body[i] = listToString(cpy.Body[i])\n",
    "    #Δημιουργία των αντιστοίχων συνόλων εκπαίδευσης και αξιολόγησης\n",
    "    if real == False:\n",
    "        return prepareXsetYset()\n",
    "    else:\n",
    "        return cpy\n",
    "            \n",
    "    \n",
    "#Δημιουργία μοντέλου πρόβλεψης και πρόβλεψη με naive-bayes\n",
    "def naiveBayes(trainX, trainY, X):\n",
    "    \n",
    "    #Εκπαίδευση του μοντέλου\n",
    "    NB_model = MultinomialNB()\n",
    "    NB_model.fit(trainX, trainY)\n",
    "    y_predict_nb_tweets = NB_model.predict(X)\n",
    "    counter=list(collections.Counter(y_predict_nb_tweets).items())\n",
    "    \n",
    "    (unique, counts) = np.unique(y_predict_nb_tweets, return_counts=True)\n",
    "    frequencies = np.asarray((unique, counts)).T\n",
    "    FirstCategory = int(frequencies[0][0])\n",
    "    SecondCategory = int(frequencies[1][0])\n",
    "    print(FirstCategory,\"-\",SecondCategory)\n",
    "    labelsArray = ['ΘΕΤΙΚΑ','ΑΡΝΗΤΙΚΑ']\n",
    "    colorsArray = ['blue','red']\n",
    "    dataArray = [int(frequencies[1][1]), int(frequencies[0][1])]\n",
    "    if FirstCategory == 0:\n",
    "        labelsArray = ['ΑΡΝΗΤΙΚΑ','ΘΕΤΙΚΑ']\n",
    "        colorsArray = ['red','blue']\n",
    "        dataArray = [int(frequencies[0][1]), int(frequencies[1][1])]\n",
    "    pc = [0,0]\n",
    "    pc[0] = float(frequencies[0][1])/(float(frequencies[0][1])+float(frequencies[1][1]))\n",
    "    pc[1] = float(frequencies[1][1])/(float(frequencies[0][1])+float(frequencies[1][1]))\n",
    "    \n",
    "    print(\"Πλήθος Αρνητικών:\",frequencies[0][1],\"Πλήθος Θετικών:\",frequencies[1][1])\n",
    "    print(\"Ποσοστός Αρνητικών:\",pc[0],\" Ποσοστό Θετικών:\",pc[1])\n",
    "    \n",
    "    \n",
    "    #εμφάνιση του διαγράμματος πρόβλεψης\n",
    "    plt.pie(dataArray, labels = labelsArray, colors = colorsArray)\n",
    "    plt.title('Naive Bayes')\n",
    "    plt.show() \n",
    "    \n",
    "    plt.bar(labelsArray,dataArray, color = colorsArray)\n",
    "    plt.title('Naive Bayes')\n",
    "    plt.xlabel('Συναίσθημα')\n",
    "    plt.ylabel('Πλήθος')\n",
    "    plt.show()\n",
    "    \n",
    "    \n",
    "#Δημιουργία μοντέλου πρόβλεψης και πρόβλεψη με Logistic Reggression\n",
    "def logisticRegression(trainX, trainY, X):\n",
    "    #Εκπαίδευση του μοντέλου\n",
    "    LR_model = LogisticRegression(solver='lbfgs')\n",
    "    LR_model.fit(trainX, trainY)\n",
    "    #Αξιολόγηση του μοντέλου\n",
    "    y_predict_lr = LR_model.predict(X)\n",
    "    counter=list(collections.Counter(y_predict_lr).items())\n",
    "    \n",
    "    (unique, counts) = np.unique(y_predict_lr, return_counts=True)\n",
    "    frequencies = np.asarray((unique, counts)).T\n",
    "    FirstCategory = int(frequencies[0][0])\n",
    "    SecondCategory = int(frequencies[1][0])\n",
    "    print(FirstCategory,\"-\",SecondCategory)\n",
    "    labelsArray = ['ΘΕΤΙΚΑ','ΑΡΝΗΤΙΚΑ']\n",
    "    colorsArray = ['blue','red']\n",
    "    dataArray = [int(frequencies[1][1]), int(frequencies[0][1])]\n",
    "    if FirstCategory == 0:\n",
    "        labelsArray = ['ΑΡΝΗΤΙΚΑ','ΘΕΤΙΚΑ']\n",
    "        colorsArray = ['red','blue']\n",
    "        dataArray = [int(frequencies[0][1]), int(frequencies[1][1])]\n",
    "    pc = [0,0]\n",
    "    pc[0] = float(frequencies[0][1])/(float(frequencies[0][1])+float(frequencies[1][1]))\n",
    "    pc[1] = float(frequencies[1][1])/(float(frequencies[0][1])+float(frequencies[1][1]))\n",
    "    \n",
    "    print(\"Πλήθος Αρνητικών:\",int(frequencies[0][1]),\"Πλήθος Θετικών:\",int(frequencies[1][1]))\n",
    "    print(\"Ποσοστό Αρνητικών:\",pc[0],\" Ποσοστό Θετικών:\",pc[1])\n",
    "    \n",
    "    \n",
    "    #εμφάνιση του διαγράμματος πρόβλεψης\n",
    "    plt.pie(dataArray, labels = labelsArray, colors = colorsArray)\n",
    "    plt.title('Logistic Regression')\n",
    "    plt.show() \n",
    "\n",
    "    plt.bar(labelsArray,dataArray, color = colorsArray)\n",
    "    plt.title('Logistic Regression')\n",
    "    plt.xlabel('Συναίσθημα')\n",
    "    plt.ylabel('Πλήθος')\n",
    "    plt.show()\n",
    "    \n",
    "#Δημιουργία μοντέλου πρόβλεψης και πρόβλεψη με πολυεπίπεδο νευρωνικό δίκτυο    \n",
    "def NN(trainX, trainY, X):\n",
    "    #Εκπαίδευση του μοντέλου\n",
    "    clf = MLPClassifier(random_state=1, max_iter=5).fit(trainX, trainY)\n",
    "    #Προβλεψη με βάση το μοντέλο\n",
    "    y_predict_MLP_tweets = clf.predict(X=X)\n",
    "    counter=list(collections.Counter(y_predict_MLP_tweets).items())\n",
    "    #εμφάνιση του διαγράμματος \n",
    "    \n",
    "    (unique, counts) = np.unique(y_predict_MLP_tweets, return_counts=True)\n",
    "    frequencies = np.asarray((unique, counts)).T\n",
    "    FirstCategory = int(frequencies[0][0])\n",
    "    SecondCategory = int(frequencies[1][0])\n",
    "    print(FirstCategory,\" \",SecondCategory)\n",
    "    labelsArray = ['ΘΕΤΙΚΑ','ΑΡΝΗΤΙΚΑ']\n",
    "    colorsArray = ['blue','red']\n",
    "    dataArray = [int(frequencies[1][1]), int(frequencies[0][1])]\n",
    "    if FirstCategory == 0:\n",
    "        labelsArray = ['ΑΡΝΗΤΙΚΑ','ΘΕΤΙΚΑ']\n",
    "        colorsArray = ['red','blue']\n",
    "        dataArray = [int(frequencies[0][1]), int(frequencies[1][1])]\n",
    "    pc = [0,0]\n",
    "    pc[0] = float(frequencies[0][1])/(float(frequencies[0][1])+float(frequencies[1][1]))\n",
    "    pc[1] = float(frequencies[1][1])/(float(frequencies[0][1])+float(frequencies[1][1]))\n",
    "    \n",
    "    print(\"Πλήθος Αρνητικών:\",frequencies[0][1],\"Πλήθος Θετικών:\",frequencies[1][1])\n",
    "    print(\"Ποσοστός Αρνητικών:\",pc[0],\" Ποσοστό Θετικών:\",pc[1])\n",
    "    \n",
    "    plt.pie(dataArray, labels = labelsArray, colors = colorsArray)\n",
    "    plt.title('Multilayer Pereceptron')\n",
    "    plt.show() \n",
    "\n",
    "    plt.bar(labelsArray,dataArray, color = colorsArray)\n",
    "    plt.title('Multilayer Pereceptron')\n",
    "    plt.xlabel('Συναίσθημα')\n",
    "    plt.ylabel('Πλήθος')\n",
    "    plt.show()\n",
    "\n"
   ]
  },
  {
   "cell_type": "code",
   "execution_count": 159,
   "metadata": {},
   "outputs": [],
   "source": [
    "#Οι όροι που χρησιμοποιήθηκαν για την ανάκτηση των tweets\n",
    "keyword = [\"Putin\", \"#Putin\"]\n",
    "#Δημιουργία του Dataset που θα χρησιμοποιηθεί για την εκπαίδευση των μοντέλων\n",
    "res  = getDataFromFile(\"training.1600000.processed.noemoticon.csv\",keyword)\n",
    "GL_trainDataFile = res[0]\n",
    "GL_trainData = res[1]\n",
    "GL_criteria = res[2]"
   ]
  },
  {
   "cell_type": "code",
   "execution_count": 160,
   "metadata": {},
   "outputs": [
    {
     "data": {
      "text/html": [
       "<div>\n",
       "<style scoped>\n",
       "    .dataframe tbody tr th:only-of-type {\n",
       "        vertical-align: middle;\n",
       "    }\n",
       "\n",
       "    .dataframe tbody tr th {\n",
       "        vertical-align: top;\n",
       "    }\n",
       "\n",
       "    .dataframe thead th {\n",
       "        text-align: right;\n",
       "    }\n",
       "</style>\n",
       "<table border=\"1\" class=\"dataframe\">\n",
       "  <thead>\n",
       "    <tr style=\"text-align: right;\">\n",
       "      <th></th>\n",
       "      <th>Sentiment</th>\n",
       "      <th>Body</th>\n",
       "    </tr>\n",
       "  </thead>\n",
       "  <tbody>\n",
       "    <tr>\n",
       "      <th>0</th>\n",
       "      <td>0</td>\n",
       "      <td>@switchfoot http://twitpic.com/2y1zl - Awww, t...</td>\n",
       "    </tr>\n",
       "    <tr>\n",
       "      <th>1</th>\n",
       "      <td>0</td>\n",
       "      <td>is upset that he can't update his Facebook by ...</td>\n",
       "    </tr>\n",
       "    <tr>\n",
       "      <th>2</th>\n",
       "      <td>0</td>\n",
       "      <td>@Kenichan I dived many times for the ball. Man...</td>\n",
       "    </tr>\n",
       "    <tr>\n",
       "      <th>3</th>\n",
       "      <td>0</td>\n",
       "      <td>my whole body feels itchy and like its on fire</td>\n",
       "    </tr>\n",
       "    <tr>\n",
       "      <th>4</th>\n",
       "      <td>0</td>\n",
       "      <td>@nationwideclass no, it's not behaving at all....</td>\n",
       "    </tr>\n",
       "    <tr>\n",
       "      <th>5</th>\n",
       "      <td>0</td>\n",
       "      <td>@Kwesidei not the whole crew</td>\n",
       "    </tr>\n",
       "    <tr>\n",
       "      <th>6</th>\n",
       "      <td>0</td>\n",
       "      <td>Need a hug</td>\n",
       "    </tr>\n",
       "    <tr>\n",
       "      <th>7</th>\n",
       "      <td>0</td>\n",
       "      <td>@LOLTrish hey  long time no see! Yes.. Rains a...</td>\n",
       "    </tr>\n",
       "    <tr>\n",
       "      <th>8</th>\n",
       "      <td>0</td>\n",
       "      <td>@Tatiana_K nope they didn't have it</td>\n",
       "    </tr>\n",
       "    <tr>\n",
       "      <th>9</th>\n",
       "      <td>0</td>\n",
       "      <td>@twittera que me muera ?</td>\n",
       "    </tr>\n",
       "  </tbody>\n",
       "</table>\n",
       "</div>"
      ],
      "text/plain": [
       "   Sentiment                                               Body\n",
       "0          0  @switchfoot http://twitpic.com/2y1zl - Awww, t...\n",
       "1          0  is upset that he can't update his Facebook by ...\n",
       "2          0  @Kenichan I dived many times for the ball. Man...\n",
       "3          0    my whole body feels itchy and like its on fire \n",
       "4          0  @nationwideclass no, it's not behaving at all....\n",
       "5          0                      @Kwesidei not the whole crew \n",
       "6          0                                        Need a hug \n",
       "7          0  @LOLTrish hey  long time no see! Yes.. Rains a...\n",
       "8          0               @Tatiana_K nope they didn't have it \n",
       "9          0                          @twittera que me muera ? "
      ]
     },
     "execution_count": 160,
     "metadata": {},
     "output_type": "execute_result"
    }
   ],
   "source": [
    "#Τα περιεχόμενα του αρχείου που θα χρησιμοποιηθεί για την εκπαίδευση των μοντέλων\n",
    "GL_trainData.head(10)"
   ]
  },
  {
   "cell_type": "code",
   "execution_count": 161,
   "metadata": {},
   "outputs": [],
   "source": [
    "#Καθαρισμός των δεδομένων εκπαίδευσης\n",
    "#cleanData(DATA = GL_trainData, criteria = ['Putin','#Putin'])"
   ]
  },
  {
   "cell_type": "code",
   "execution_count": 162,
   "metadata": {},
   "outputs": [],
   "source": [
    "#Ανάκτηση του καθαρού συνόλου δεδομένων με 2-γράμματα\n",
    "res = readCleanTrainDataFromFile(\"ADV1.csv\")\n",
    "GL_trainData = res[0]\n",
    "GL_trainDataSize = res[1]"
   ]
  },
  {
   "cell_type": "code",
   "execution_count": 163,
   "metadata": {},
   "outputs": [
    {
     "data": {
      "text/plain": [
       "<AxesSubplot:>"
      ]
     },
     "execution_count": 163,
     "metadata": {},
     "output_type": "execute_result"
    },
    {
     "data": {
      "image/png": "[encoded data removed]",
      "text/plain": [
       "<Figure size 432x288 with 1 Axes>"
      ]
     },
     "metadata": {
      "needs_background": "light"
     },
     "output_type": "display_data"
    }
   ],
   "source": [
    "#Η κατανομη των αναρτήσεων με βάση την κατηγορία τους\n",
    "GL_trainData['Sentiment'].hist()"
   ]
  },
  {
   "cell_type": "markdown",
   "metadata": {},
   "source": [
    "# PUTIN / 2-GRAMS"
   ]
  },
  {
   "cell_type": "code",
   "execution_count": 164,
   "metadata": {},
   "outputs": [],
   "source": [
    "#λαμβάνονται τα πραγματικά tweets\n",
    "res = readActualData(\"Putin.csv\")\n",
    "GL_realData = res[0]\n",
    "GL_realDataSize = res[1]\n",
    "#καθαρισμός των δεδομένων\n",
    "GL_realData = cleanData(DATA = GL_realData, criteria = ['Putin','#Putin'])"
   ]
  },
  {
   "cell_type": "code",
   "execution_count": 165,
   "metadata": {},
   "outputs": [
    {
     "data": {
      "text/html": [
       "<div>\n",
       "<style scoped>\n",
       "    .dataframe tbody tr th:only-of-type {\n",
       "        vertical-align: middle;\n",
       "    }\n",
       "\n",
       "    .dataframe tbody tr th {\n",
       "        vertical-align: top;\n",
       "    }\n",
       "\n",
       "    .dataframe thead th {\n",
       "        text-align: right;\n",
       "    }\n",
       "</style>\n",
       "<table border=\"1\" class=\"dataframe\">\n",
       "  <thead>\n",
       "    <tr style=\"text-align: right;\">\n",
       "      <th></th>\n",
       "      <th>Sentiment</th>\n",
       "      <th>Body</th>\n",
       "    </tr>\n",
       "  </thead>\n",
       "  <tbody>\n",
       "    <tr>\n",
       "      <th>0</th>\n",
       "      <td>0</td>\n",
       "      <td></td>\n",
       "    </tr>\n",
       "    <tr>\n",
       "      <th>1</th>\n",
       "      <td>0</td>\n",
       "      <td>close russia russia close close especi</td>\n",
       "    </tr>\n",
       "    <tr>\n",
       "      <th>2</th>\n",
       "      <td>0</td>\n",
       "      <td>damn back back hair hair thing thing angri</td>\n",
       "    </tr>\n",
       "    <tr>\n",
       "      <th>3</th>\n",
       "      <td>0</td>\n",
       "      <td>turkey presid presid set set meet</td>\n",
       "    </tr>\n",
       "    <tr>\n",
       "      <th>4</th>\n",
       "      <td>0</td>\n",
       "      <td>insurrectionist set set redefin redefin human ...</td>\n",
       "    </tr>\n",
       "    <tr>\n",
       "      <th>...</th>\n",
       "      <td>...</td>\n",
       "      <td>...</td>\n",
       "    </tr>\n",
       "    <tr>\n",
       "      <th>19909</th>\n",
       "      <td>0</td>\n",
       "      <td>think suppo suppo thank</td>\n",
       "    </tr>\n",
       "    <tr>\n",
       "      <th>19910</th>\n",
       "      <td>0</td>\n",
       "      <td>stand russia russia pray pray man man chang ch...</td>\n",
       "    </tr>\n",
       "    <tr>\n",
       "      <th>19911</th>\n",
       "      <td>0</td>\n",
       "      <td>oh right right barri barri middl middl deal</td>\n",
       "    </tr>\n",
       "    <tr>\n",
       "      <th>19912</th>\n",
       "      <td>0</td>\n",
       "      <td></td>\n",
       "    </tr>\n",
       "    <tr>\n",
       "      <th>19913</th>\n",
       "      <td>0</td>\n",
       "      <td>problem noth noth good good leader leader corr...</td>\n",
       "    </tr>\n",
       "  </tbody>\n",
       "</table>\n",
       "<p>19914 rows × 2 columns</p>\n",
       "</div>"
      ],
      "text/plain": [
       "       Sentiment                                               Body\n",
       "0              0                                                   \n",
       "1              0             close russia russia close close especi\n",
       "2              0         damn back back hair hair thing thing angri\n",
       "3              0                  turkey presid presid set set meet\n",
       "4              0  insurrectionist set set redefin redefin human ...\n",
       "...          ...                                                ...\n",
       "19909          0                            think suppo suppo thank\n",
       "19910          0  stand russia russia pray pray man man chang ch...\n",
       "19911          0        oh right right barri barri middl middl deal\n",
       "19912          0                                                   \n",
       "19913          0  problem noth noth good good leader leader corr...\n",
       "\n",
       "[19914 rows x 2 columns]"
      ]
     },
     "execution_count": 165,
     "metadata": {},
     "output_type": "execute_result"
    }
   ],
   "source": [
    "#Τα πραγματικά δεδομενα μετατρέπονται σε 2-grams\n",
    "actualData2 = makeNgramsDataVersions(GL_realData,2, True)\n",
    "actualData2"
   ]
  },
  {
   "cell_type": "code",
   "execution_count": 166,
   "metadata": {},
   "outputs": [],
   "source": [
    "#για να μετατραπούν τα 2-grams σε διανύσματα, θα πρέπει να ενωθούν τα dataset εκπαίδευσης και των πραγματικών αναρτήσεων \n",
    "resall = concatenateTrainAndActualData(GL_trainData, actualData2)\n",
    "#μετατροπή σε διανύσματα\n",
    "res = prepareXsetYset(resall[0],GL_trainData.shape[0])\n",
    "#Οι παράμετροι εισόδου για δημιουργια μοντέλων και προβλέψεις\n",
    "trainX2 = res[0]\n",
    "trainY2 = res[1]\n",
    "X2 = res[2]"
   ]
  },
  {
   "cell_type": "code",
   "execution_count": 167,
   "metadata": {},
   "outputs": [
    {
     "name": "stdout",
     "output_type": "stream",
     "text": [
      "0 - 4\n",
      "Πλήθος Αρνητικών: b'10948' Πλήθος Θετικών: b'8966'\n",
      "Ποσοστός Αρνητικών: 0.5497639851360852  Ποσοστό Θετικών: 0.45023601486391485\n"
     ]
    },
    {
     "data": {
      "image/png": "[encoded data removed]",
      "text/plain": [
       "<Figure size 432x288 with 1 Axes>"
      ]
     },
     "metadata": {},
     "output_type": "display_data"
    },
    {
     "data": {
      "image/png": "[encoded data removed]",
      "text/plain": [
       "<Figure size 432x288 with 1 Axes>"
      ]
     },
     "metadata": {
      "needs_background": "light"
     },
     "output_type": "display_data"
    }
   ],
   "source": [
    "naiveBayes(trainX2,trainY2,X2)"
   ]
  },
  {
   "cell_type": "code",
   "execution_count": 168,
   "metadata": {},
   "outputs": [
    {
     "name": "stdout",
     "output_type": "stream",
     "text": [
      "0 - 4\n",
      "Πλήθος Αρνητικών: 8966 Πλήθος Θετικών: 10948\n",
      "Ποσοστό Αρνητικών: 0.45023601486391485  Ποσοστό Θετικών: 0.5497639851360852\n"
     ]
    },
    {
     "data": {
      "image/png": "[encoded data removed]",
      "text/plain": [
       "<Figure size 432x288 with 1 Axes>"
      ]
     },
     "metadata": {},
     "output_type": "display_data"
    },
    {
     "data": {
      "image/png": "[encoded data removed]",
      "text/plain": [
       "<Figure size 432x288 with 1 Axes>"
      ]
     },
     "metadata": {
      "needs_background": "light"
     },
     "output_type": "display_data"
    }
   ],
   "source": [
    "logisticRegression(trainX2,trainY2,X2)"
   ]
  },
  {
   "cell_type": "code",
   "execution_count": 169,
   "metadata": {},
   "outputs": [
    {
     "name": "stdout",
     "output_type": "stream",
     "text": [
      "0   4\n",
      "Πλήθος Αρνητικών: b'9238' Πλήθος Θετικών: b'10676'\n",
      "Ποσοστός Αρνητικών: 0.4638947474138797  Ποσοστό Θετικών: 0.5361052525861203\n"
     ]
    },
    {
     "data": {
      "image/png": "[encoded data removed]",
      "text/plain": [
       "<Figure size 432x288 with 1 Axes>"
      ]
     },
     "metadata": {},
     "output_type": "display_data"
    },
    {
     "data": {
      "image/png": "[encoded data removed]",
      "text/plain": [
       "<Figure size 432x288 with 1 Axes>"
      ]
     },
     "metadata": {
      "needs_background": "light"
     },
     "output_type": "display_data"
    }
   ],
   "source": [
    "NN(trainX2,trainY2,X2)"
   ]
  },
  {
   "cell_type": "markdown",
   "metadata": {},
   "source": [
    "# ZELENSKYY 2-GRAMS"
   ]
  },
  {
   "cell_type": "code",
   "execution_count": 170,
   "metadata": {},
   "outputs": [],
   "source": [
    "#λαμβάνονται τα πραγματικά tweets\n",
    "res = readActualData(\"Zelenskyy.csv\")\n",
    "GL_realData = res[0]\n",
    "GL_realDataSize = res[1]\n",
    "#καθαρισμός των δεδομένων\n",
    "GL_realData = cleanData(DATA = GL_realData, criteria = ['Zelenskyy','#Zelenskyy'])"
   ]
  },
  {
   "cell_type": "code",
   "execution_count": 171,
   "metadata": {},
   "outputs": [
    {
     "data": {
      "text/html": [
       "<div>\n",
       "<style scoped>\n",
       "    .dataframe tbody tr th:only-of-type {\n",
       "        vertical-align: middle;\n",
       "    }\n",
       "\n",
       "    .dataframe tbody tr th {\n",
       "        vertical-align: top;\n",
       "    }\n",
       "\n",
       "    .dataframe thead th {\n",
       "        text-align: right;\n",
       "    }\n",
       "</style>\n",
       "<table border=\"1\" class=\"dataframe\">\n",
       "  <thead>\n",
       "    <tr style=\"text-align: right;\">\n",
       "      <th></th>\n",
       "      <th>Sentiment</th>\n",
       "      <th>Body</th>\n",
       "    </tr>\n",
       "  </thead>\n",
       "  <tbody>\n",
       "    <tr>\n",
       "      <th>0</th>\n",
       "      <td>0</td>\n",
       "      <td>lack trust trust u u presid presid joe</td>\n",
       "    </tr>\n",
       "    <tr>\n",
       "      <th>1</th>\n",
       "      <td>0</td>\n",
       "      <td>know certain certain trump trump favor favor t...</td>\n",
       "    </tr>\n",
       "    <tr>\n",
       "      <th>2</th>\n",
       "      <td>0</td>\n",
       "      <td>keep fight fight war war damn damn ho</td>\n",
       "    </tr>\n",
       "    <tr>\n",
       "      <th>3</th>\n",
       "      <td>0</td>\n",
       "      <td>alreadi movi</td>\n",
       "    </tr>\n",
       "    <tr>\n",
       "      <th>4</th>\n",
       "      <td>0</td>\n",
       "      <td>smart enough enough know know tide tide turn t...</td>\n",
       "    </tr>\n",
       "    <tr>\n",
       "      <th>...</th>\n",
       "      <td>...</td>\n",
       "      <td>...</td>\n",
       "    </tr>\n",
       "    <tr>\n",
       "      <th>9787</th>\n",
       "      <td>0</td>\n",
       "      <td>rememb feed feed peopl peopl either</td>\n",
       "    </tr>\n",
       "    <tr>\n",
       "      <th>9788</th>\n",
       "      <td>0</td>\n",
       "      <td>undertak massiv massiv redeploy redeploy three...</td>\n",
       "    </tr>\n",
       "    <tr>\n",
       "      <th>9789</th>\n",
       "      <td>0</td>\n",
       "      <td>understand major major coupl coupl sooner soon...</td>\n",
       "    </tr>\n",
       "    <tr>\n",
       "      <th>9790</th>\n",
       "      <td>0</td>\n",
       "      <td>correct toward toward russia russia know</td>\n",
       "    </tr>\n",
       "    <tr>\n",
       "      <th>9791</th>\n",
       "      <td>0</td>\n",
       "      <td>humor war war love love fragranc fragranc energet</td>\n",
       "    </tr>\n",
       "  </tbody>\n",
       "</table>\n",
       "<p>9792 rows × 2 columns</p>\n",
       "</div>"
      ],
      "text/plain": [
       "      Sentiment                                               Body\n",
       "0             0             lack trust trust u u presid presid joe\n",
       "1             0  know certain certain trump trump favor favor t...\n",
       "2             0              keep fight fight war war damn damn ho\n",
       "3             0                                       alreadi movi\n",
       "4             0  smart enough enough know know tide tide turn t...\n",
       "...         ...                                                ...\n",
       "9787          0                rememb feed feed peopl peopl either\n",
       "9788          0  undertak massiv massiv redeploy redeploy three...\n",
       "9789          0  understand major major coupl coupl sooner soon...\n",
       "9790          0           correct toward toward russia russia know\n",
       "9791          0  humor war war love love fragranc fragranc energet\n",
       "\n",
       "[9792 rows x 2 columns]"
      ]
     },
     "execution_count": 171,
     "metadata": {},
     "output_type": "execute_result"
    }
   ],
   "source": [
    "#Τα πραγματικά δεδομενα μετατρέπονται σε 2-grams\n",
    "actualData2 = makeNgramsDataVersions(GL_realData,2, True)\n",
    "actualData2"
   ]
  },
  {
   "cell_type": "code",
   "execution_count": 172,
   "metadata": {},
   "outputs": [],
   "source": [
    "#για να μετατραπούν τα 2-grams σε διανύσματα, θα πρέπει να ενωθούν τα dataset εκπαίδευσης και των πραγματικών αναρτήσεων \n",
    "resall = concatenateTrainAndActualData(GL_trainData, actualData2)\n",
    "#μετατροπή σε διανύσματα\n",
    "res = prepareXsetYset(resall[0],GL_trainData.shape[0])\n",
    "#Οι παράμετροι εισόδου για δημιουργια μοντέλων και προβλέψεις\n",
    "trainX2 = res[0]\n",
    "trainY2 = res[1]\n",
    "X2 = res[2]"
   ]
  },
  {
   "cell_type": "code",
   "execution_count": 173,
   "metadata": {},
   "outputs": [
    {
     "name": "stdout",
     "output_type": "stream",
     "text": [
      "0 - 4\n",
      "Πλήθος Αρνητικών: b'4479' Πλήθος Θετικών: b'5313'\n",
      "Ποσοστός Αρνητικών: 0.4574142156862745  Ποσοστό Θετικών: 0.5425857843137255\n"
     ]
    },
    {
     "data": {
      "image/png": "[encoded data removed]",
      "text/plain": [
       "<Figure size 432x288 with 1 Axes>"
      ]
     },
     "metadata": {},
     "output_type": "display_data"
    },
    {
     "data": {
      "image/png": "[encoded data removed]",
      "text/plain": [
       "<Figure size 432x288 with 1 Axes>"
      ]
     },
     "metadata": {
      "needs_background": "light"
     },
     "output_type": "display_data"
    }
   ],
   "source": [
    "naiveBayes(trainX2,trainY2,X2)"
   ]
  },
  {
   "cell_type": "code",
   "execution_count": 174,
   "metadata": {},
   "outputs": [
    {
     "name": "stdout",
     "output_type": "stream",
     "text": [
      "0 - 4\n",
      "Πλήθος Αρνητικών: 4038 Πλήθος Θετικών: 5754\n",
      "Ποσοστό Αρνητικών: 0.41237745098039214  Ποσοστό Θετικών: 0.5876225490196079\n"
     ]
    },
    {
     "data": {
      "image/png": "[encoded data removed]",
      "text/plain": [
       "<Figure size 432x288 with 1 Axes>"
      ]
     },
     "metadata": {},
     "output_type": "display_data"
    },
    {
     "data": {
      "image/png": "[encoded data removed]",
      "text/plain": [
       "<Figure size 432x288 with 1 Axes>"
      ]
     },
     "metadata": {
      "needs_background": "light"
     },
     "output_type": "display_data"
    }
   ],
   "source": [
    "logisticRegression(trainX2,trainY2,X2)"
   ]
  },
  {
   "cell_type": "code",
   "execution_count": 175,
   "metadata": {},
   "outputs": [
    {
     "name": "stdout",
     "output_type": "stream",
     "text": [
      "0   4\n",
      "Πλήθος Αρνητικών: b'4356' Πλήθος Θετικών: b'5436'\n",
      "Ποσοστός Αρνητικών: 0.44485294117647056  Ποσοστό Θετικών: 0.5551470588235294\n"
     ]
    },
    {
     "data": {
      "image/png": "[encoded data removed]",
      "text/plain": [
       "<Figure size 432x288 with 1 Axes>"
      ]
     },
     "metadata": {},
     "output_type": "display_data"
    },
    {
     "data": {
      "image/png": "[encoded data removed]",
      "text/plain": [
       "<Figure size 432x288 with 1 Axes>"
      ]
     },
     "metadata": {
      "needs_background": "light"
     },
     "output_type": "display_data"
    }
   ],
   "source": [
    "NN(trainX2,trainY2,X2)"
   ]
  },
  {
   "cell_type": "markdown",
   "metadata": {},
   "source": [
    "# Putin 3-Grams"
   ]
  },
  {
   "cell_type": "code",
   "execution_count": 176,
   "metadata": {},
   "outputs": [],
   "source": [
    "#Ανάκτηση του καθαρού συνόλου δεδομένων με 2-γράμματα\n",
    "res = readCleanTrainDataFromFile(\"ADV2.csv\")\n",
    "GL_trainData = res[0]\n",
    "GL_trainDataSize = res[1]"
   ]
  },
  {
   "cell_type": "code",
   "execution_count": 177,
   "metadata": {},
   "outputs": [
    {
     "data": {
      "text/plain": [
       "<AxesSubplot:>"
      ]
     },
     "execution_count": 177,
     "metadata": {},
     "output_type": "execute_result"
    },
    {
     "data": {
      "image/png": "[encoded data removed]",
      "text/plain": [
       "<Figure size 432x288 with 1 Axes>"
      ]
     },
     "metadata": {
      "needs_background": "light"
     },
     "output_type": "display_data"
    }
   ],
   "source": [
    "#Η κατανομη των αναρτήσεων με βάση την κατηγορία τους\n",
    "GL_trainData['Sentiment'].hist()"
   ]
  },
  {
   "cell_type": "code",
   "execution_count": 178,
   "metadata": {},
   "outputs": [],
   "source": [
    "#λαμβάνονται τα πραγματικά tweets\n",
    "res = readActualData(\"Putin.csv\")\n",
    "GL_realData = res[0]\n",
    "GL_realDataSize = res[1]\n",
    "#καθαρισμός των δεδομένων\n",
    "GL_realData = cleanData(DATA = GL_realData, criteria = ['Putin','#Putin'])"
   ]
  },
  {
   "cell_type": "code",
   "execution_count": 179,
   "metadata": {},
   "outputs": [
    {
     "data": {
      "text/html": [
       "<div>\n",
       "<style scoped>\n",
       "    .dataframe tbody tr th:only-of-type {\n",
       "        vertical-align: middle;\n",
       "    }\n",
       "\n",
       "    .dataframe tbody tr th {\n",
       "        vertical-align: top;\n",
       "    }\n",
       "\n",
       "    .dataframe thead th {\n",
       "        text-align: right;\n",
       "    }\n",
       "</style>\n",
       "<table border=\"1\" class=\"dataframe\">\n",
       "  <thead>\n",
       "    <tr style=\"text-align: right;\">\n",
       "      <th></th>\n",
       "      <th>Sentiment</th>\n",
       "      <th>Body</th>\n",
       "    </tr>\n",
       "  </thead>\n",
       "  <tbody>\n",
       "    <tr>\n",
       "      <th>0</th>\n",
       "      <td>0</td>\n",
       "      <td></td>\n",
       "    </tr>\n",
       "    <tr>\n",
       "      <th>1</th>\n",
       "      <td>0</td>\n",
       "      <td>close russia close russia close especi</td>\n",
       "    </tr>\n",
       "    <tr>\n",
       "      <th>2</th>\n",
       "      <td>0</td>\n",
       "      <td>damn back hair back hair thing hair thing angri</td>\n",
       "    </tr>\n",
       "    <tr>\n",
       "      <th>3</th>\n",
       "      <td>0</td>\n",
       "      <td>turkey presid set presid set meet</td>\n",
       "    </tr>\n",
       "    <tr>\n",
       "      <th>4</th>\n",
       "      <td>0</td>\n",
       "      <td>insurrectionist set redefin set redefin human ...</td>\n",
       "    </tr>\n",
       "    <tr>\n",
       "      <th>...</th>\n",
       "      <td>...</td>\n",
       "      <td>...</td>\n",
       "    </tr>\n",
       "    <tr>\n",
       "      <th>19909</th>\n",
       "      <td>0</td>\n",
       "      <td>think suppo thank</td>\n",
       "    </tr>\n",
       "    <tr>\n",
       "      <th>19910</th>\n",
       "      <td>0</td>\n",
       "      <td>stand russia pray russia pray man pray man cha...</td>\n",
       "    </tr>\n",
       "    <tr>\n",
       "      <th>19911</th>\n",
       "      <td>0</td>\n",
       "      <td>oh right barri right barri middl barri middl deal</td>\n",
       "    </tr>\n",
       "    <tr>\n",
       "      <th>19912</th>\n",
       "      <td>0</td>\n",
       "      <td></td>\n",
       "    </tr>\n",
       "    <tr>\n",
       "      <th>19913</th>\n",
       "      <td>0</td>\n",
       "      <td>problem noth good noth good leader good leader...</td>\n",
       "    </tr>\n",
       "  </tbody>\n",
       "</table>\n",
       "<p>19914 rows × 2 columns</p>\n",
       "</div>"
      ],
      "text/plain": [
       "       Sentiment                                               Body\n",
       "0              0                                                   \n",
       "1              0             close russia close russia close especi\n",
       "2              0    damn back hair back hair thing hair thing angri\n",
       "3              0                  turkey presid set presid set meet\n",
       "4              0  insurrectionist set redefin set redefin human ...\n",
       "...          ...                                                ...\n",
       "19909          0                                  think suppo thank\n",
       "19910          0  stand russia pray russia pray man pray man cha...\n",
       "19911          0  oh right barri right barri middl barri middl deal\n",
       "19912          0                                                   \n",
       "19913          0  problem noth good noth good leader good leader...\n",
       "\n",
       "[19914 rows x 2 columns]"
      ]
     },
     "execution_count": 179,
     "metadata": {},
     "output_type": "execute_result"
    }
   ],
   "source": [
    "#Τα πραγματικά δεδομενα μετατρέπονται σε 2-grams\n",
    "actualData2 = makeNgramsDataVersions(GL_realData,3, True)\n",
    "actualData2"
   ]
  },
  {
   "cell_type": "code",
   "execution_count": 180,
   "metadata": {},
   "outputs": [],
   "source": [
    "#για να μετατραπούν τα 2-grams σε διανύσματα, θα πρέπει να ενωθούν τα dataset εκπαίδευσης και των πραγματικών αναρτήσεων \n",
    "resall = concatenateTrainAndActualData(GL_trainData, actualData2)\n",
    "#μετατροπή σε διανύσματα\n",
    "res = prepareXsetYset(resall[0],GL_trainData.shape[0])\n",
    "#Οι παράμετροι εισόδου για δημιουργια μοντέλων και προβλέψεις\n",
    "trainX2 = res[0]\n",
    "trainY2 = res[1]\n",
    "X2 = res[2]"
   ]
  },
  {
   "cell_type": "code",
   "execution_count": 181,
   "metadata": {},
   "outputs": [
    {
     "name": "stdout",
     "output_type": "stream",
     "text": [
      "0 - 4\n",
      "Πλήθος Αρνητικών: b'11617' Πλήθος Θετικών: b'8297'\n",
      "Ποσοστός Αρνητικών: 0.5833584412975796  Ποσοστό Θετικών: 0.4166415587024204\n"
     ]
    },
    {
     "data": {
      "image/png": "[encoded data removed]",
      "text/plain": [
       "<Figure size 432x288 with 1 Axes>"
      ]
     },
     "metadata": {},
     "output_type": "display_data"
    },
    {
     "data": {
      "image/png": "[encoded data removed]",
      "text/plain": [
       "<Figure size 432x288 with 1 Axes>"
      ]
     },
     "metadata": {
      "needs_background": "light"
     },
     "output_type": "display_data"
    }
   ],
   "source": [
    "naiveBayes(trainX2,trainY2,X2)"
   ]
  },
  {
   "cell_type": "code",
   "execution_count": 182,
   "metadata": {},
   "outputs": [
    {
     "name": "stdout",
     "output_type": "stream",
     "text": [
      "0 - 4\n",
      "Πλήθος Αρνητικών: 8483 Πλήθος Θετικών: 11431\n",
      "Ποσοστό Αρνητικών: 0.4259817214020287  Ποσοστό Θετικών: 0.5740182785979713\n"
     ]
    },
    {
     "data": {
      "image/png": "[encoded data removed]",
      "text/plain": [
       "<Figure size 432x288 with 1 Axes>"
      ]
     },
     "metadata": {},
     "output_type": "display_data"
    },
    {
     "data": {
      "image/png": "[encoded data removed]",
      "text/plain": [
       "<Figure size 432x288 with 1 Axes>"
      ]
     },
     "metadata": {
      "needs_background": "light"
     },
     "output_type": "display_data"
    }
   ],
   "source": [
    "logisticRegression(trainX2,trainY2,X2)"
   ]
  },
  {
   "cell_type": "code",
   "execution_count": 183,
   "metadata": {},
   "outputs": [
    {
     "name": "stdout",
     "output_type": "stream",
     "text": [
      "0   4\n",
      "Πλήθος Αρνητικών: b'8811' Πλήθος Θετικών: b'11103'\n",
      "Ποσοστός Αρνητικών: 0.44245254594757455  Ποσοστό Θετικών: 0.5575474540524255\n"
     ]
    },
    {
     "data": {
      "image/png": "[encoded data removed]",
      "text/plain": [
       "<Figure size 432x288 with 1 Axes>"
      ]
     },
     "metadata": {},
     "output_type": "display_data"
    },
    {
     "data": {
      "image/png": "[encoded data removed]",
      "text/plain": [
       "<Figure size 432x288 with 1 Axes>"
      ]
     },
     "metadata": {
      "needs_background": "light"
     },
     "output_type": "display_data"
    }
   ],
   "source": [
    "NN(trainX2,trainY2,X2)"
   ]
  },
  {
   "cell_type": "markdown",
   "metadata": {},
   "source": [
    "# Zelenskyy 3 - Grams"
   ]
  },
  {
   "cell_type": "code",
   "execution_count": 189,
   "metadata": {},
   "outputs": [],
   "source": [
    "#λαμβάνονται τα πραγματικά tweets\n",
    "res = readActualData(\"Zelenskyy.csv\")\n",
    "GL_realData = res[0]\n",
    "GL_realDataSize = res[1]\n",
    "#καθαρισμός των δεδομένων\n",
    "GL_realData = cleanData(DATA = GL_realData, criteria = ['Zelenskyy','#Zelenskyy'])"
   ]
  },
  {
   "cell_type": "code",
   "execution_count": 190,
   "metadata": {},
   "outputs": [
    {
     "data": {
      "text/html": [
       "<div>\n",
       "<style scoped>\n",
       "    .dataframe tbody tr th:only-of-type {\n",
       "        vertical-align: middle;\n",
       "    }\n",
       "\n",
       "    .dataframe tbody tr th {\n",
       "        vertical-align: top;\n",
       "    }\n",
       "\n",
       "    .dataframe thead th {\n",
       "        text-align: right;\n",
       "    }\n",
       "</style>\n",
       "<table border=\"1\" class=\"dataframe\">\n",
       "  <thead>\n",
       "    <tr style=\"text-align: right;\">\n",
       "      <th></th>\n",
       "      <th>Sentiment</th>\n",
       "      <th>Body</th>\n",
       "    </tr>\n",
       "  </thead>\n",
       "  <tbody>\n",
       "    <tr>\n",
       "      <th>0</th>\n",
       "      <td>0</td>\n",
       "      <td>lack trust u trust u presid u presid joe</td>\n",
       "    </tr>\n",
       "    <tr>\n",
       "      <th>1</th>\n",
       "      <td>0</td>\n",
       "      <td>know certain trump certain trump favor trump f...</td>\n",
       "    </tr>\n",
       "    <tr>\n",
       "      <th>2</th>\n",
       "      <td>0</td>\n",
       "      <td>keep fight war fight war damn war damn ho</td>\n",
       "    </tr>\n",
       "    <tr>\n",
       "      <th>3</th>\n",
       "      <td>0</td>\n",
       "      <td></td>\n",
       "    </tr>\n",
       "    <tr>\n",
       "      <th>4</th>\n",
       "      <td>0</td>\n",
       "      <td>smart enough know enough know tide know tide t...</td>\n",
       "    </tr>\n",
       "    <tr>\n",
       "      <th>...</th>\n",
       "      <td>...</td>\n",
       "      <td>...</td>\n",
       "    </tr>\n",
       "    <tr>\n",
       "      <th>9787</th>\n",
       "      <td>0</td>\n",
       "      <td>rememb feed peopl feed peopl either</td>\n",
       "    </tr>\n",
       "    <tr>\n",
       "      <th>9788</th>\n",
       "      <td>0</td>\n",
       "      <td>undertak massiv redeploy massiv redeploy three...</td>\n",
       "    </tr>\n",
       "    <tr>\n",
       "      <th>9789</th>\n",
       "      <td>0</td>\n",
       "      <td>understand major coupl major coupl sooner coup...</td>\n",
       "    </tr>\n",
       "    <tr>\n",
       "      <th>9790</th>\n",
       "      <td>0</td>\n",
       "      <td>correct toward russia toward russia know</td>\n",
       "    </tr>\n",
       "    <tr>\n",
       "      <th>9791</th>\n",
       "      <td>0</td>\n",
       "      <td>humor war love war love fragranc love fragranc...</td>\n",
       "    </tr>\n",
       "  </tbody>\n",
       "</table>\n",
       "<p>9792 rows × 2 columns</p>\n",
       "</div>"
      ],
      "text/plain": [
       "      Sentiment                                               Body\n",
       "0             0           lack trust u trust u presid u presid joe\n",
       "1             0  know certain trump certain trump favor trump f...\n",
       "2             0          keep fight war fight war damn war damn ho\n",
       "3             0                                                   \n",
       "4             0  smart enough know enough know tide know tide t...\n",
       "...         ...                                                ...\n",
       "9787          0                rememb feed peopl feed peopl either\n",
       "9788          0  undertak massiv redeploy massiv redeploy three...\n",
       "9789          0  understand major coupl major coupl sooner coup...\n",
       "9790          0           correct toward russia toward russia know\n",
       "9791          0  humor war love war love fragranc love fragranc...\n",
       "\n",
       "[9792 rows x 2 columns]"
      ]
     },
     "execution_count": 190,
     "metadata": {},
     "output_type": "execute_result"
    }
   ],
   "source": [
    "#Τα πραγματικά δεδομενα μετατρέπονται σε 2-grams\n",
    "actualData2 = makeNgramsDataVersions(GL_realData,3, True)\n",
    "actualData2"
   ]
  },
  {
   "cell_type": "code",
   "execution_count": 194,
   "metadata": {},
   "outputs": [],
   "source": [
    "#για να μετατραπούν τα 2-grams σε διανύσματα, θα πρέπει να ενωθούν τα dataset εκπαίδευσης και των πραγματικών αναρτήσεων \n",
    "resall = concatenateTrainAndActualData(GL_trainData, actualData2)\n",
    "#μετατροπή σε διανύσματα\n",
    "res = prepareXsetYset(resall[0],GL_trainData.shape[0])\n",
    "#Οι παράμετροι εισόδου για δημιουργια μοντέλων και προβλέψεις\n",
    "trainX2 = res[0]\n",
    "trainY2 = res[1]\n",
    "X2 = res[2]"
   ]
  },
  {
   "cell_type": "code",
   "execution_count": 195,
   "metadata": {},
   "outputs": [
    {
     "name": "stdout",
     "output_type": "stream",
     "text": [
      "0 - 4\n",
      "Πλήθος Αρνητικών: b'4852' Πλήθος Θετικών: b'4940'\n",
      "Ποσοστός Αρνητικών: 0.49550653594771243  Ποσοστό Θετικών: 0.5044934640522876\n"
     ]
    },
    {
     "data": {
      "image/png": "[encoded data removed]",
      "text/plain": [
       "<Figure size 432x288 with 1 Axes>"
      ]
     },
     "metadata": {},
     "output_type": "display_data"
    },
    {
     "data": {
      "image/png": "[encoded data removed]",
      "text/plain": [
       "<Figure size 432x288 with 1 Axes>"
      ]
     },
     "metadata": {
      "needs_background": "light"
     },
     "output_type": "display_data"
    }
   ],
   "source": [
    "naiveBayes(trainX2,trainY2,X2)"
   ]
  },
  {
   "cell_type": "code",
   "execution_count": 196,
   "metadata": {},
   "outputs": [
    {
     "name": "stdout",
     "output_type": "stream",
     "text": [
      "0 - 4\n",
      "Πλήθος Αρνητικών: 4125 Πλήθος Θετικών: 5667\n",
      "Ποσοστό Αρνητικών: 0.4212622549019608  Ποσοστό Θετικών: 0.5787377450980392\n"
     ]
    },
    {
     "data": {
      "image/png": "[encoded data removed]",
      "text/plain": [
       "<Figure size 432x288 with 1 Axes>"
      ]
     },
     "metadata": {},
     "output_type": "display_data"
    },
    {
     "data": {
      "image/png": "[encoded data removed]",
      "text/plain": [
       "<Figure size 432x288 with 1 Axes>"
      ]
     },
     "metadata": {
      "needs_background": "light"
     },
     "output_type": "display_data"
    }
   ],
   "source": [
    "logisticRegression(trainX2,trainY2,X2)"
   ]
  },
  {
   "cell_type": "code",
   "execution_count": 197,
   "metadata": {},
   "outputs": [
    {
     "name": "stdout",
     "output_type": "stream",
     "text": [
      "0   4\n",
      "Πλήθος Αρνητικών: b'3920' Πλήθος Θετικών: b'5872'\n",
      "Ποσοστός Αρνητικών: 0.40032679738562094  Ποσοστό Θετικών: 0.5996732026143791\n"
     ]
    },
    {
     "data": {
      "image/png": "[encoded data removed]",
      "text/plain": [
       "<Figure size 432x288 with 1 Axes>"
      ]
     },
     "metadata": {},
     "output_type": "display_data"
    },
    {
     "data": {
      "image/png": "[encoded data removed]",
      "text/plain": [
       "<Figure size 432x288 with 1 Axes>"
      ]
     },
     "metadata": {
      "needs_background": "light"
     },
     "output_type": "display_data"
    }
   ],
   "source": [
    "NN(trainX2,trainY2,X2)"
   ]
  },
  {
   "cell_type": "code",
   "execution_count": null,
   "metadata": {},
   "outputs": [],
   "source": []
  }
 ],
 "metadata": {
  "kernelspec": {
   "display_name": "Python 3",
   "language": "python",
   "name": "python3"
  },
  "language_info": {
   "codemirror_mode": {
    "name": "ipython",
    "version": 3
   },
   "file_extension": ".py",
   "mimetype": "text/x-python",
   "name": "python",
   "nbconvert_exporter": "python",
   "pygments_lexer": "ipython3",
   "version": "3.7.1"
  }
 },
 "nbformat": 4,
 "nbformat_minor": 4
}
